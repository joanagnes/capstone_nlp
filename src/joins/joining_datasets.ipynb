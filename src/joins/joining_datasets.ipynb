{
 "cells": [
  {
   "cell_type": "markdown",
   "metadata": {},
   "source": [
    "# JOINS \n",
    "\n",
    "This jupyter is to join the datasets with their \n",
    "one to many notes files."
   ]
  },
  {
   "cell_type": "code",
   "execution_count": 12,
   "metadata": {
    "scrolled": true
   },
   "outputs": [],
   "source": [
    "import string\n",
    "import bz2\n",
    "from os import listdir\n",
    "from os.path import isfile, join\n",
    "import os\n",
    "import matplotlib.pyplot as plt\n",
    "import numpy as np\n",
    "import pandas as pd\n",
    "import seaborn as sns\n",
    "import datetime\n",
    "import nltk.corpus  \n",
    "import time\n",
    "import math\n",
    "import re\n",
    "import spacy\n",
    "from functools import reduce\n",
    "from nltk.text import Text\n",
    "from nltk.corpus import stopwords\n",
    "from itertools import combinations\n",
    "from textblob import TextBlob\n",
    "from textblob.sentiments import NaiveBayesAnalyzer\n",
    "from textblob import TextBlob\n",
    "from nltk.stem.wordnet import WordNetLemmatizer\n",
    "# from keras.preprocessing import text, sequence\n",
    "# from keras.utils import to_categorical\n",
    "# from keras.layers import Bidirectional, GlobalMaxPool1D,GlobalMaxPool2D, GlobalMaxPool3D,Conv1D, Dense, Input, LSTM, Embedding, Dropout, Activation\n",
    "# from keras.models import Model, Sequential\n",
    "# from keras.callbacks import EarlyStopping, ModelCheckpoint\n",
    "%matplotlib inline\n",
    "plt.style.use('fivethirtyeight')\n"
   ]
  },
  {
   "cell_type": "code",
   "execution_count": 13,
   "metadata": {},
   "outputs": [
    {
     "data": {
      "text/plain": [
       "'C:\\\\Users\\\\t.cri.kcheung\\\\capstone_nlp\\\\src\\\\joins'"
      ]
     },
     "execution_count": 13,
     "metadata": {},
     "output_type": "execute_result"
    }
   ],
   "source": [
    "os.getcwd()"
   ]
  },
  {
   "cell_type": "code",
   "execution_count": 14,
   "metadata": {},
   "outputs": [],
   "source": [
    "# get all files in subfolder\n",
    "mypath = \"Z:/FINAL OUTPUT v2/\"\n",
    "onlyfiles = [join(mypath,f) for f in listdir(mypath) if isfile(join(mypath, f))]"
   ]
  },
  {
   "cell_type": "code",
   "execution_count": 15,
   "metadata": {
    "scrolled": false
   },
   "outputs": [
    {
     "data": {
      "text/plain": [
       "['Z:/FINAL OUTPUT v2/07_ENCOUNTER_SOCIAL_HX_COHORT_1.csv',\n",
       " 'Z:/FINAL OUTPUT v2/01_PATIENT_COHORT_1.csv',\n",
       " 'Z:/FINAL OUTPUT v2/09_DX_INFO_COHORT_1.csv',\n",
       " 'Z:/FINAL OUTPUT v2/merged_cohort1.csv',\n",
       " 'Z:/FINAL OUTPUT v2/05_ENCOUNTER_PROVIDER_COHORT_1.csv',\n",
       " 'Z:/FINAL OUTPUT v2/04_ENCOUNTER_COHORT_2.csv',\n",
       " 'Z:/FINAL OUTPUT v2/06_ENCOUNTER_PROVIDER_COHORT_2.csv',\n",
       " 'Z:/FINAL OUTPUT v2/02_PATIENT_COHORT_2.csv',\n",
       " 'Z:/FINAL OUTPUT v2/merged_cohort2.csv',\n",
       " 'Z:/FINAL OUTPUT v2/01_PATIENT_COHORT_2_NEW.csv',\n",
       " 'Z:/FINAL OUTPUT v2/03_ENCOUNTER_COHORT_1.csv',\n",
       " 'Z:/FINAL OUTPUT v2/11_COHORT_1_RADIOLOGY.csv',\n",
       " 'Z:/FINAL OUTPUT v2/08_ENCOUNTER_SOCIAL_HX_COHORT_2.csv',\n",
       " 'Z:/FINAL OUTPUT v2/10_DX_INFO_COHORT_2.csv',\n",
       " 'Z:/FINAL OUTPUT v2/12_COHORT_2_RADIOLOGY.csv']"
      ]
     },
     "execution_count": 15,
     "metadata": {},
     "output_type": "execute_result"
    }
   ],
   "source": [
    "onlyfiles"
   ]
  },
  {
   "cell_type": "markdown",
   "metadata": {},
   "source": [
    "# Modular"
   ]
  },
  {
   "cell_type": "code",
   "execution_count": 16,
   "metadata": {},
   "outputs": [],
   "source": [
    "onlyfiles_sorted = sorted(onlyfiles, key=lambda x:(x!=\"PATIENT_COHORT\", x))"
   ]
  },
  {
   "cell_type": "code",
   "execution_count": 17,
   "metadata": {},
   "outputs": [],
   "source": [
    "frame = pd.DataFrame()\n",
    "list_ = []\n",
    "\n",
    "def readin(listoffiles,like):\n",
    "    for f in listoffiles:\n",
    "        if f.find(like) == -1:\n",
    "            print(\"skipped:\",f)\n",
    "        else:\n",
    "            print(\"added to list_\",f)\n",
    "            df = pd.read_csv(f,index_col=None, header=0,sep=\"|\")\n",
    "            df.columns = [x.lower() for x in df.columns]\n",
    "            list_.append(df)\n",
    "    suffix = ('_patient', '_encounter', '_encounter_provider', '_encounter_social','_dx_info','_radiology')\n",
    "    for i in range(0,len(list_)):\n",
    "        print(\"iteration number\",i)\n",
    "        tmp1 = pd.DataFrame(list_[i].iloc[:,0])\n",
    "        print(\"suffix : \",suffix[i])\n",
    "#         print(tmp1)\n",
    "        print(list_[i].iloc[i])\n",
    "        list_[i] = list_[i].iloc[:,1:].add_suffix(suffix[i])\n",
    "        list_[i] = pd.concat((tmp1,(list_[i])),axis=1)\n",
    "    frame = reduce(lambda x, y: pd.merge(x, y, on = 'patient_id',how=\"left\"), list_)\n",
    "    return(frame)"
   ]
  },
  {
   "cell_type": "code",
   "execution_count": 18,
   "metadata": {
    "scrolled": false
   },
   "outputs": [
    {
     "name": "stdout",
     "output_type": "stream",
     "text": [
      "processed Z:/FINAL OUTPUT v2/01_PATIENT_COHORT_1.csv\n",
      "skipped: Z:/FINAL OUTPUT v2/01_PATIENT_COHORT_2_NEW.csv\n",
      "skipped: Z:/FINAL OUTPUT v2/02_PATIENT_COHORT_2.csv\n",
      "processed Z:/FINAL OUTPUT v2/03_ENCOUNTER_COHORT_1.csv\n",
      "skipped: Z:/FINAL OUTPUT v2/04_ENCOUNTER_COHORT_2.csv\n",
      "processed Z:/FINAL OUTPUT v2/05_ENCOUNTER_PROVIDER_COHORT_1.csv\n",
      "skipped: Z:/FINAL OUTPUT v2/06_ENCOUNTER_PROVIDER_COHORT_2.csv\n",
      "processed Z:/FINAL OUTPUT v2/07_ENCOUNTER_SOCIAL_HX_COHORT_1.csv\n",
      "skipped: Z:/FINAL OUTPUT v2/08_ENCOUNTER_SOCIAL_HX_COHORT_2.csv\n",
      "processed Z:/FINAL OUTPUT v2/09_DX_INFO_COHORT_1.csv\n",
      "skipped: Z:/FINAL OUTPUT v2/10_DX_INFO_COHORT_2.csv\n",
      "processed Z:/FINAL OUTPUT v2/11_COHORT_1_RADIOLOGY.csv\n",
      "skipped: Z:/FINAL OUTPUT v2/12_COHORT_2_RADIOLOGY.csv\n",
      "skipped: Z:/FINAL OUTPUT v2/merged_cohort1.csv\n",
      "skipped: Z:/FINAL OUTPUT v2/merged_cohort2.csv\n",
      "0\n",
      "1\n",
      "2\n",
      "3\n",
      "4\n",
      "5\n"
     ]
    }
   ],
   "source": [
    "cohort1_dta = readin(onlyfiles_sorted,\"COHORT_1\")"
   ]
  },
  {
   "cell_type": "code",
   "execution_count": 19,
   "metadata": {
    "scrolled": true
   },
   "outputs": [
    {
     "data": {
      "text/plain": [
       "(106212, 119)"
      ]
     },
     "execution_count": 19,
     "metadata": {},
     "output_type": "execute_result"
    }
   ],
   "source": [
    "cohort1_dta.shape"
   ]
  },
  {
   "cell_type": "code",
   "execution_count": 20,
   "metadata": {},
   "outputs": [
    {
     "data": {
      "text/html": [
       "<div>\n",
       "<style scoped>\n",
       "    .dataframe tbody tr th:only-of-type {\n",
       "        vertical-align: middle;\n",
       "    }\n",
       "\n",
       "    .dataframe tbody tr th {\n",
       "        vertical-align: top;\n",
       "    }\n",
       "\n",
       "    .dataframe thead th {\n",
       "        text-align: right;\n",
       "    }\n",
       "</style>\n",
       "<table border=\"1\" class=\"dataframe\">\n",
       "  <thead>\n",
       "    <tr style=\"text-align: right;\">\n",
       "      <th></th>\n",
       "      <th>patient_id</th>\n",
       "      <th>age_at_last_encounter_patient</th>\n",
       "      <th>gender_patient</th>\n",
       "      <th>race_patient</th>\n",
       "      <th>ethnicity_patient</th>\n",
       "      <th>date_of_death_d_patient</th>\n",
       "      <th>encounter_id_encounter</th>\n",
       "      <th>enc_eio_encounter</th>\n",
       "      <th>visit_status_1_encounter</th>\n",
       "      <th>visit_status_2_encounter</th>\n",
       "      <th>...</th>\n",
       "      <th>dx_12_dx_info</th>\n",
       "      <th>dx_desc_12_dx_info</th>\n",
       "      <th>dx12_rank_dx_info</th>\n",
       "      <th>dx_13_dx_info</th>\n",
       "      <th>dx_desc_13_dx_info</th>\n",
       "      <th>dx13_rank_dx_info</th>\n",
       "      <th>encounter_id_radiology</th>\n",
       "      <th>order_proc_id_deid_radiology</th>\n",
       "      <th>ordering_date_off_radiology</th>\n",
       "      <th>exam_type\t\t_radiology</th>\n",
       "    </tr>\n",
       "  </thead>\n",
       "  <tbody>\n",
       "    <tr>\n",
       "      <th>0</th>\n",
       "      <td>32124</td>\n",
       "      <td>90.0</td>\n",
       "      <td>F</td>\n",
       "      <td>White</td>\n",
       "      <td>Not Hispanic or Latino</td>\n",
       "      <td>NaN</td>\n",
       "      <td>5039107</td>\n",
       "      <td>O</td>\n",
       "      <td>Completed</td>\n",
       "      <td>NaN</td>\n",
       "      <td>...</td>\n",
       "      <td>NaN</td>\n",
       "      <td>NaN</td>\n",
       "      <td>NaN</td>\n",
       "      <td>NaN</td>\n",
       "      <td>NaN</td>\n",
       "      <td>NaN</td>\n",
       "      <td>NaN</td>\n",
       "      <td>NaN</td>\n",
       "      <td>NaN</td>\n",
       "      <td>NaN</td>\n",
       "    </tr>\n",
       "    <tr>\n",
       "      <th>1</th>\n",
       "      <td>32124</td>\n",
       "      <td>90.0</td>\n",
       "      <td>F</td>\n",
       "      <td>White</td>\n",
       "      <td>Not Hispanic or Latino</td>\n",
       "      <td>NaN</td>\n",
       "      <td>5039107</td>\n",
       "      <td>O</td>\n",
       "      <td>Completed</td>\n",
       "      <td>NaN</td>\n",
       "      <td>...</td>\n",
       "      <td>NaN</td>\n",
       "      <td>NaN</td>\n",
       "      <td>NaN</td>\n",
       "      <td>NaN</td>\n",
       "      <td>NaN</td>\n",
       "      <td>NaN</td>\n",
       "      <td>NaN</td>\n",
       "      <td>NaN</td>\n",
       "      <td>NaN</td>\n",
       "      <td>NaN</td>\n",
       "    </tr>\n",
       "    <tr>\n",
       "      <th>2</th>\n",
       "      <td>32124</td>\n",
       "      <td>90.0</td>\n",
       "      <td>F</td>\n",
       "      <td>White</td>\n",
       "      <td>Not Hispanic or Latino</td>\n",
       "      <td>NaN</td>\n",
       "      <td>5039107</td>\n",
       "      <td>O</td>\n",
       "      <td>Completed</td>\n",
       "      <td>NaN</td>\n",
       "      <td>...</td>\n",
       "      <td>NaN</td>\n",
       "      <td>NaN</td>\n",
       "      <td>NaN</td>\n",
       "      <td>NaN</td>\n",
       "      <td>NaN</td>\n",
       "      <td>NaN</td>\n",
       "      <td>NaN</td>\n",
       "      <td>NaN</td>\n",
       "      <td>NaN</td>\n",
       "      <td>NaN</td>\n",
       "    </tr>\n",
       "    <tr>\n",
       "      <th>3</th>\n",
       "      <td>32124</td>\n",
       "      <td>90.0</td>\n",
       "      <td>F</td>\n",
       "      <td>White</td>\n",
       "      <td>Not Hispanic or Latino</td>\n",
       "      <td>NaN</td>\n",
       "      <td>5039107</td>\n",
       "      <td>O</td>\n",
       "      <td>Completed</td>\n",
       "      <td>NaN</td>\n",
       "      <td>...</td>\n",
       "      <td>NaN</td>\n",
       "      <td>NaN</td>\n",
       "      <td>NaN</td>\n",
       "      <td>NaN</td>\n",
       "      <td>NaN</td>\n",
       "      <td>NaN</td>\n",
       "      <td>NaN</td>\n",
       "      <td>NaN</td>\n",
       "      <td>NaN</td>\n",
       "      <td>NaN</td>\n",
       "    </tr>\n",
       "    <tr>\n",
       "      <th>4</th>\n",
       "      <td>74912</td>\n",
       "      <td>63.0</td>\n",
       "      <td>F</td>\n",
       "      <td>Black/African-American</td>\n",
       "      <td>Not Hispanic or Latino</td>\n",
       "      <td>NaN</td>\n",
       "      <td>5237464</td>\n",
       "      <td>O</td>\n",
       "      <td>Completed</td>\n",
       "      <td>NaN</td>\n",
       "      <td>...</td>\n",
       "      <td>NaN</td>\n",
       "      <td>NaN</td>\n",
       "      <td>NaN</td>\n",
       "      <td>NaN</td>\n",
       "      <td>NaN</td>\n",
       "      <td>NaN</td>\n",
       "      <td>NaN</td>\n",
       "      <td>NaN</td>\n",
       "      <td>NaN</td>\n",
       "      <td>NaN</td>\n",
       "    </tr>\n",
       "  </tbody>\n",
       "</table>\n",
       "<p>5 rows × 119 columns</p>\n",
       "</div>"
      ],
      "text/plain": [
       "   patient_id  age_at_last_encounter_patient gender_patient  \\\n",
       "0       32124                           90.0              F   \n",
       "1       32124                           90.0              F   \n",
       "2       32124                           90.0              F   \n",
       "3       32124                           90.0              F   \n",
       "4       74912                           63.0              F   \n",
       "\n",
       "             race_patient       ethnicity_patient date_of_death_d_patient  \\\n",
       "0                   White  Not Hispanic or Latino                     NaN   \n",
       "1                   White  Not Hispanic or Latino                     NaN   \n",
       "2                   White  Not Hispanic or Latino                     NaN   \n",
       "3                   White  Not Hispanic or Latino                     NaN   \n",
       "4  Black/African-American  Not Hispanic or Latino                     NaN   \n",
       "\n",
       "   encounter_id_encounter enc_eio_encounter visit_status_1_encounter  \\\n",
       "0                 5039107                 O                Completed   \n",
       "1                 5039107                 O                Completed   \n",
       "2                 5039107                 O                Completed   \n",
       "3                 5039107                 O                Completed   \n",
       "4                 5237464                 O                Completed   \n",
       "\n",
       "  visit_status_2_encounter           ...           dx_12_dx_info  \\\n",
       "0                      NaN           ...                     NaN   \n",
       "1                      NaN           ...                     NaN   \n",
       "2                      NaN           ...                     NaN   \n",
       "3                      NaN           ...                     NaN   \n",
       "4                      NaN           ...                     NaN   \n",
       "\n",
       "   dx_desc_12_dx_info dx12_rank_dx_info dx_13_dx_info dx_desc_13_dx_info  \\\n",
       "0                 NaN               NaN           NaN                NaN   \n",
       "1                 NaN               NaN           NaN                NaN   \n",
       "2                 NaN               NaN           NaN                NaN   \n",
       "3                 NaN               NaN           NaN                NaN   \n",
       "4                 NaN               NaN           NaN                NaN   \n",
       "\n",
       "  dx13_rank_dx_info encounter_id_radiology order_proc_id_deid_radiology  \\\n",
       "0               NaN                    NaN                          NaN   \n",
       "1               NaN                    NaN                          NaN   \n",
       "2               NaN                    NaN                          NaN   \n",
       "3               NaN                    NaN                          NaN   \n",
       "4               NaN                    NaN                          NaN   \n",
       "\n",
       "   ordering_date_off_radiology exam_type\\t\\t_radiology  \n",
       "0                          NaN                     NaN  \n",
       "1                          NaN                     NaN  \n",
       "2                          NaN                     NaN  \n",
       "3                          NaN                     NaN  \n",
       "4                          NaN                     NaN  \n",
       "\n",
       "[5 rows x 119 columns]"
      ]
     },
     "execution_count": 20,
     "metadata": {},
     "output_type": "execute_result"
    }
   ],
   "source": [
    "cohort1_dta.head()"
   ]
  },
  {
   "cell_type": "code",
   "execution_count": 22,
   "metadata": {},
   "outputs": [
    {
     "data": {
      "text/plain": [
       "0               NaN\n",
       "1               NaN\n",
       "2               NaN\n",
       "3               NaN\n",
       "4               NaN\n",
       "5               NaN\n",
       "6               NaN\n",
       "7               NaN\n",
       "8               NaN\n",
       "9               NaN\n",
       "10              NaN\n",
       "11              NaN\n",
       "12              NaN\n",
       "13              NaN\n",
       "14              NaN\n",
       "15              NaN\n",
       "16              NaN\n",
       "17              NaN\n",
       "18        6862790.0\n",
       "19        6862790.0\n",
       "20        6862790.0\n",
       "21              NaN\n",
       "22              NaN\n",
       "23              NaN\n",
       "24              NaN\n",
       "25              NaN\n",
       "26              NaN\n",
       "27              NaN\n",
       "28              NaN\n",
       "29              NaN\n",
       "            ...    \n",
       "106182    8425699.0\n",
       "106183    8425699.0\n",
       "106184    8425699.0\n",
       "106185    8425699.0\n",
       "106186    8425699.0\n",
       "106187    8425699.0\n",
       "106188    8425699.0\n",
       "106189    8425699.0\n",
       "106190    8425699.0\n",
       "106191    8425699.0\n",
       "106192    8425699.0\n",
       "106193    8425699.0\n",
       "106194    8425699.0\n",
       "106195    8425699.0\n",
       "106196    8425699.0\n",
       "106197    8425699.0\n",
       "106198    8425699.0\n",
       "106199    8425699.0\n",
       "106200    8425699.0\n",
       "106201    8425699.0\n",
       "106202    8425699.0\n",
       "106203    8425699.0\n",
       "106204    8425699.0\n",
       "106205    8425699.0\n",
       "106206    8425699.0\n",
       "106207    8425699.0\n",
       "106208    8425699.0\n",
       "106209    8425699.0\n",
       "106210    8425699.0\n",
       "106211    8425699.0\n",
       "Name: encounter_id_radiology, Length: 106212, dtype: float64"
      ]
     },
     "execution_count": 22,
     "metadata": {},
     "output_type": "execute_result"
    }
   ],
   "source": [
    "cohort1_dta.encounter_id_radiology"
   ]
  },
  {
   "cell_type": "code",
   "execution_count": 23,
   "metadata": {
    "scrolled": false
   },
   "outputs": [
    {
     "data": {
      "text/plain": [
       "patient_id                                                                                    1557194\n",
       "age_at_last_encounter_patient                                                                      41\n",
       "gender_patient                                                                                      F\n",
       "race_patient                                                                     Asian/Mideast Indian\n",
       "ethnicity_patient                                                              Not Hispanic or Latino\n",
       "date_of_death_d_patient                                                                           NaN\n",
       "encounter_id_encounter                                                                        5403357\n",
       "enc_eio_encounter                                                                                   O\n",
       "visit_status_1_encounter                                                                    Completed\n",
       "visit_status_2_encounter                                                                          NaN\n",
       "visit_status_3_encounter                                                                          NaN\n",
       "visit_status_4_encounter                                                                          NaN\n",
       "adm_date_d_encounter                                                          2012-06-29 00:00:00.000\n",
       "disc_date_d_encounter                                                         2012-06-29 00:00:00.000\n",
       "start_date_d_encounter                                                        2012-06-29 00:00:00.000\n",
       "end_date_d_encounter                                                          2012-06-29 00:00:00.000\n",
       "admit_source_1_encounter                                     Non-Health Care Facility Point of Origin\n",
       "admit_source_2_encounter                                                                          NaN\n",
       "admit_source_3_encounter                                                                          NaN\n",
       "disch_disp_1_encounter                                                                            NaN\n",
       "disch_disp_2_encounter                                                                            NaN\n",
       "disch_disp_3_encounter                                                                            NaN\n",
       "zip_d_encounter                                                                                100091\n",
       "enc_fin_class_encounter                                                            Managed Care - PPO\n",
       "encounter_id_encounter_provider                                                               4992137\n",
       "admitting_prov_id_encounter_provider                                                              NaN\n",
       "admitting_provider_department_encounter_provider                                                  NaN\n",
       "attnd_prov_id_encounter_provider                                                                 2873\n",
       "attending_department_encounter_provider                                              BSD EH PULMONARY\n",
       "referring_prov_id_encounter_provider                                                             2873\n",
       "                                                                          ...                        \n",
       "dx_desc_5_dx_info                                                                           HYPOXEMIA\n",
       "dx5_rank_dx_info                                                                                    5\n",
       "dx_6_dx_info                                                                                   564.00\n",
       "dx_desc_6_dx_info                                                            UNSPECIFIED CONSTIPATION\n",
       "dx6_rank_dx_info                                                                                    6\n",
       "dx_7_dx_info                                                                                   516.34\n",
       "dx_desc_7_dx_info                                   RESPIRATORY BRONCHIOLITIS INTERSTITIAL LUNG DI...\n",
       "dx7_rank_dx_info                                                                                    7\n",
       "dx_8_dx_info                                                                                      NaN\n",
       "dx_desc_8_dx_info                                                                                 NaN\n",
       "dx8_rank_dx_info                                                                                  NaN\n",
       "dx_9_dx_info                                                                                      NaN\n",
       "dx_desc_9_dx_info                                                                                 NaN\n",
       "dx9_rank_dx_info                                                                                  NaN\n",
       "dx_10_dx_info                                                                                     NaN\n",
       "dx_desc_10_dx_info                                                                                NaN\n",
       "dx10_rank_dx_info                                                                                 NaN\n",
       "dx_11_dx_info                                                                                     NaN\n",
       "dx_desc_11_dx_info                                                                                NaN\n",
       "dx11_rank_dx_info                                                                                 NaN\n",
       "dx_12_dx_info                                                                                     NaN\n",
       "dx_desc_12_dx_info                                                                                NaN\n",
       "dx12_rank_dx_info                                                                                 NaN\n",
       "dx_13_dx_info                                                                                     NaN\n",
       "dx_desc_13_dx_info                                                                                NaN\n",
       "dx13_rank_dx_info                                                                                 NaN\n",
       "encounter_id_radiology                                                                    5.40336e+06\n",
       "order_proc_id_deid_radiology                                                                   654602\n",
       "ordering_date_off_radiology                                                   2012-06-29 00:00:00.000\n",
       "exam_type\\t\\t_radiology                                                       XR Chest PA/Lateral\\t\\t\n",
       "Name: 80000, Length: 119, dtype: object"
      ]
     },
     "execution_count": 23,
     "metadata": {},
     "output_type": "execute_result"
    }
   ],
   "source": [
    "cohort1_dta.iloc[80000,0:]"
   ]
  },
  {
   "cell_type": "code",
   "execution_count": 24,
   "metadata": {
    "scrolled": true
   },
   "outputs": [
    {
     "data": {
      "text/plain": [
       "Index(['patient_id', 'age_at_last_encounter_patient', 'gender_patient',\n",
       "       'race_patient', 'ethnicity_patient', 'date_of_death_d_patient',\n",
       "       'encounter_id_encounter', 'enc_eio_encounter',\n",
       "       'visit_status_1_encounter', 'visit_status_2_encounter',\n",
       "       ...\n",
       "       'dx_12_dx_info', 'dx_desc_12_dx_info', 'dx12_rank_dx_info',\n",
       "       'dx_13_dx_info', 'dx_desc_13_dx_info', 'dx13_rank_dx_info',\n",
       "       'encounter_id_radiology', 'order_proc_id_deid_radiology',\n",
       "       'ordering_date_off_radiology', 'exam_type\\t\\t_radiology'],\n",
       "      dtype='object', length=119)"
      ]
     },
     "execution_count": 24,
     "metadata": {},
     "output_type": "execute_result"
    }
   ],
   "source": [
    "cohort1_dta.columns"
   ]
  },
  {
   "cell_type": "markdown",
   "metadata": {},
   "source": [
    "### Prior to loading in lets check for j84."
   ]
  },
  {
   "cell_type": "code",
   "execution_count": 25,
   "metadata": {
    "scrolled": true
   },
   "outputs": [
    {
     "data": {
      "text/plain": [
       "'Z:/FINAL OUTPUT v2/10_DX_INFO_COHORT_2.csv'"
      ]
     },
     "execution_count": 25,
     "metadata": {},
     "output_type": "execute_result"
    }
   ],
   "source": [
    "onlyfiles_sorted[10]"
   ]
  },
  {
   "cell_type": "code",
   "execution_count": 26,
   "metadata": {},
   "outputs": [
    {
     "name": "stderr",
     "output_type": "stream",
     "text": [
      "C:\\ProgramData\\Anaconda3\\lib\\site-packages\\IPython\\core\\interactiveshell.py:2728: DtypeWarning: Columns (98,110,113,116,117,119,120,122,123,125,126,128,129,131,132,134,135,137,138,140,141,143,144,146,147,149,150,152,153,155,156,158,159,161,162,164,165,167,168,170,171,173,174,176,177,179,180,182,183,185,186,188,189,191,192,194,195,197,198,200,201,203,204,206,207,209,210,212,213,215,216,218,219,221,222,224,225,227,228,230,231,233,234,236,237,239,240,242,243,245,246,248,249,251,252,254,255,257,258) have mixed types. Specify dtype option on import or set low_memory=False.\n",
      "  interactivity=interactivity, compiler=compiler, result=result)\n"
     ]
    }
   ],
   "source": [
    "cohort2_icd_check = pd.read_csv(onlyfiles_sorted[10],sep=\"|\")"
   ]
  },
  {
   "cell_type": "code",
   "execution_count": 31,
   "metadata": {},
   "outputs": [
    {
     "data": {
      "text/plain": [
       "'dx_1'"
      ]
     },
     "execution_count": 31,
     "metadata": {},
     "output_type": "execute_result"
    }
   ],
   "source": [
    "# get list of columns with dx\n",
    "dx_cols = [col for col in cohort2_icd_check.columns if 'dx_' in col]\n",
    "dx_cols[0]"
   ]
  },
  {
   "cell_type": "code",
   "execution_count": 61,
   "metadata": {},
   "outputs": [],
   "source": [
    "# all icd codes list\n",
    "icd_codes_list = ['495','4951','4952','4953','4954','4955','4956','4957','4958','4959','496','515','517','5171','5172','5173','5178','516','5160','5161','5162','5163','51630','51631','51632','51633','51634','51635','51636','51637','5164','5165','5166','51661','51662','51663','51664','51669','5168','5169','J670','J671','J672','J673','J674','J675','J676','J677','J678','J679','J6710','J8410','J8489','J17','M3481','J99','J8401','J8402','J8403','J84111','J84112','J84113','J84114','J84115','J84116','J84117','J8481','J8482','J8483','J84841','J84842','J84843','J84844','J84845','J84848','J8409','J849']\n",
    "pattern = '|'.join(icd_codes_list)\n"
   ]
  },
  {
   "cell_type": "code",
   "execution_count": 62,
   "metadata": {},
   "outputs": [],
   "source": [
    "# extract all\n",
    "icd_subset = []\n",
    "\n",
    "for col in dx_cols:\n",
    "#     print(col)\n",
    "    tmpdf = cohort2_icd_check[cohort2_icd_check[col].str.contains(pattern,na=False)]\n",
    "    icd_subset.append(tmpdf)\n",
    "# print(icd_subset)\n",
    "    "
   ]
  },
  {
   "cell_type": "code",
   "execution_count": 70,
   "metadata": {},
   "outputs": [],
   "source": [
    "icd_subset_df = icd_subset[0]"
   ]
  },
  {
   "cell_type": "code",
   "execution_count": 75,
   "metadata": {},
   "outputs": [
    {
     "data": {
      "text/plain": [
       "2243"
      ]
     },
     "execution_count": 75,
     "metadata": {},
     "output_type": "execute_result"
    }
   ],
   "source": [
    "len(np.unique(icd_subset_df.PATIENT_ID))"
   ]
  },
  {
   "cell_type": "markdown",
   "metadata": {},
   "source": [
    "# Now i have all the patients with the relevant icd codes. Around 2k unique of them.\n",
    "\n",
    "We need to extract all of the relevant records into their own df. Let's tweak the merging into just those of which that are in the lsit of patients."
   ]
  },
  {
   "cell_type": "code",
   "execution_count": 76,
   "metadata": {},
   "outputs": [
    {
     "data": {
      "text/plain": [
       "['Z:/FINAL OUTPUT v2/01_PATIENT_COHORT_1.csv',\n",
       " 'Z:/FINAL OUTPUT v2/01_PATIENT_COHORT_2_NEW.csv',\n",
       " 'Z:/FINAL OUTPUT v2/02_PATIENT_COHORT_2.csv',\n",
       " 'Z:/FINAL OUTPUT v2/03_ENCOUNTER_COHORT_1.csv',\n",
       " 'Z:/FINAL OUTPUT v2/04_ENCOUNTER_COHORT_2.csv',\n",
       " 'Z:/FINAL OUTPUT v2/05_ENCOUNTER_PROVIDER_COHORT_1.csv',\n",
       " 'Z:/FINAL OUTPUT v2/06_ENCOUNTER_PROVIDER_COHORT_2.csv',\n",
       " 'Z:/FINAL OUTPUT v2/07_ENCOUNTER_SOCIAL_HX_COHORT_1.csv',\n",
       " 'Z:/FINAL OUTPUT v2/08_ENCOUNTER_SOCIAL_HX_COHORT_2.csv',\n",
       " 'Z:/FINAL OUTPUT v2/09_DX_INFO_COHORT_1.csv',\n",
       " 'Z:/FINAL OUTPUT v2/10_DX_INFO_COHORT_2.csv',\n",
       " 'Z:/FINAL OUTPUT v2/11_COHORT_1_RADIOLOGY.csv',\n",
       " 'Z:/FINAL OUTPUT v2/12_COHORT_2_RADIOLOGY.csv',\n",
       " 'Z:/FINAL OUTPUT v2/merged_cohort1.csv',\n",
       " 'Z:/FINAL OUTPUT v2/merged_cohort2.csv']"
      ]
     },
     "execution_count": 76,
     "metadata": {},
     "output_type": "execute_result"
    }
   ],
   "source": [
    "onlyfiles_sorted"
   ]
  },
  {
   "cell_type": "code",
   "execution_count": 77,
   "metadata": {
    "scrolled": true
   },
   "outputs": [
    {
     "data": {
      "text/html": [
       "<div>\n",
       "<style scoped>\n",
       "    .dataframe tbody tr th:only-of-type {\n",
       "        vertical-align: middle;\n",
       "    }\n",
       "\n",
       "    .dataframe tbody tr th {\n",
       "        vertical-align: top;\n",
       "    }\n",
       "\n",
       "    .dataframe thead th {\n",
       "        text-align: right;\n",
       "    }\n",
       "</style>\n",
       "<table border=\"1\" class=\"dataframe\">\n",
       "  <thead>\n",
       "    <tr style=\"text-align: right;\">\n",
       "      <th></th>\n",
       "      <th>PATIENT_ID</th>\n",
       "      <th>AGE_AT_LAST_ENCOUNTER</th>\n",
       "      <th>gender</th>\n",
       "      <th>race</th>\n",
       "      <th>ETHNICITY</th>\n",
       "      <th>DATE_OF_DEATH_D</th>\n",
       "    </tr>\n",
       "  </thead>\n",
       "  <tbody>\n",
       "    <tr>\n",
       "      <th>0</th>\n",
       "      <td>49</td>\n",
       "      <td>79.0</td>\n",
       "      <td>M</td>\n",
       "      <td>White</td>\n",
       "      <td>Not Hispanic or Latino</td>\n",
       "      <td>NaN</td>\n",
       "    </tr>\n",
       "    <tr>\n",
       "      <th>1</th>\n",
       "      <td>99</td>\n",
       "      <td>86.0</td>\n",
       "      <td>F</td>\n",
       "      <td>White</td>\n",
       "      <td>Not Hispanic or Latino</td>\n",
       "      <td>NaN</td>\n",
       "    </tr>\n",
       "    <tr>\n",
       "      <th>2</th>\n",
       "      <td>104</td>\n",
       "      <td>84.0</td>\n",
       "      <td>M</td>\n",
       "      <td>White</td>\n",
       "      <td>Not Hispanic or Latino</td>\n",
       "      <td>NaN</td>\n",
       "    </tr>\n",
       "    <tr>\n",
       "      <th>3</th>\n",
       "      <td>114</td>\n",
       "      <td>66.0</td>\n",
       "      <td>F</td>\n",
       "      <td>White</td>\n",
       "      <td>Not Hispanic or Latino</td>\n",
       "      <td>NaN</td>\n",
       "    </tr>\n",
       "    <tr>\n",
       "      <th>4</th>\n",
       "      <td>118</td>\n",
       "      <td>92.0</td>\n",
       "      <td>F</td>\n",
       "      <td>Black/African-American</td>\n",
       "      <td>Not Hispanic or Latino</td>\n",
       "      <td>NaN</td>\n",
       "    </tr>\n",
       "  </tbody>\n",
       "</table>\n",
       "</div>"
      ],
      "text/plain": [
       "   PATIENT_ID  AGE_AT_LAST_ENCOUNTER gender                    race  \\\n",
       "0          49                   79.0      M                   White   \n",
       "1          99                   86.0      F                   White   \n",
       "2         104                   84.0      M                   White   \n",
       "3         114                   66.0      F                   White   \n",
       "4         118                   92.0      F  Black/African-American   \n",
       "\n",
       "                ETHNICITY DATE_OF_DEATH_D  \n",
       "0  Not Hispanic or Latino             NaN  \n",
       "1  Not Hispanic or Latino             NaN  \n",
       "2  Not Hispanic or Latino             NaN  \n",
       "3  Not Hispanic or Latino             NaN  \n",
       "4  Not Hispanic or Latino             NaN  "
      ]
     },
     "execution_count": 77,
     "metadata": {},
     "output_type": "execute_result"
    }
   ],
   "source": [
    "cohort2move = pd.read_csv(onlyfiles_sorted[2],sep=\"|\")\n",
    "cohort2move.head()"
   ]
  },
  {
   "cell_type": "code",
   "execution_count": 81,
   "metadata": {},
   "outputs": [],
   "source": [
    "cohort2movedf = cohort2move[cohort2move.PATIENT_ID.isin(icd_subset_df.PATIENT_ID)]"
   ]
  },
  {
   "cell_type": "code",
   "execution_count": 115,
   "metadata": {},
   "outputs": [],
   "source": [
    "cohort2movedf.to_csv(join(mypath,\"01_PATIENT_COHORT_1_MOVEDFROMCOHORT2.csv\"),sep=\"|\",index=False)"
   ]
  },
  {
   "cell_type": "code",
   "execution_count": 159,
   "metadata": {},
   "outputs": [],
   "source": [
    "del cohort2_icd_check"
   ]
  },
  {
   "cell_type": "markdown",
   "metadata": {},
   "source": [
    "### Prior to loading in the second cohort let's randomly sample in 10k rows\n"
   ]
  },
  {
   "cell_type": "code",
   "execution_count": 175,
   "metadata": {
    "scrolled": false
   },
   "outputs": [
    {
     "data": {
      "text/html": [
       "<div>\n",
       "<style scoped>\n",
       "    .dataframe tbody tr th:only-of-type {\n",
       "        vertical-align: middle;\n",
       "    }\n",
       "\n",
       "    .dataframe tbody tr th {\n",
       "        vertical-align: top;\n",
       "    }\n",
       "\n",
       "    .dataframe thead th {\n",
       "        text-align: right;\n",
       "    }\n",
       "</style>\n",
       "<table border=\"1\" class=\"dataframe\">\n",
       "  <thead>\n",
       "    <tr style=\"text-align: right;\">\n",
       "      <th></th>\n",
       "      <th>PATIENT_ID</th>\n",
       "      <th>AGE_AT_LAST_ENCOUNTER</th>\n",
       "      <th>gender</th>\n",
       "      <th>race</th>\n",
       "      <th>ETHNICITY</th>\n",
       "      <th>DATE_OF_DEATH_D</th>\n",
       "    </tr>\n",
       "  </thead>\n",
       "  <tbody>\n",
       "    <tr>\n",
       "      <th>0</th>\n",
       "      <td>49</td>\n",
       "      <td>79.0</td>\n",
       "      <td>M</td>\n",
       "      <td>White</td>\n",
       "      <td>Not Hispanic or Latino</td>\n",
       "      <td>NaN</td>\n",
       "    </tr>\n",
       "    <tr>\n",
       "      <th>1</th>\n",
       "      <td>99</td>\n",
       "      <td>86.0</td>\n",
       "      <td>F</td>\n",
       "      <td>White</td>\n",
       "      <td>Not Hispanic or Latino</td>\n",
       "      <td>NaN</td>\n",
       "    </tr>\n",
       "    <tr>\n",
       "      <th>2</th>\n",
       "      <td>104</td>\n",
       "      <td>84.0</td>\n",
       "      <td>M</td>\n",
       "      <td>White</td>\n",
       "      <td>Not Hispanic or Latino</td>\n",
       "      <td>NaN</td>\n",
       "    </tr>\n",
       "    <tr>\n",
       "      <th>3</th>\n",
       "      <td>114</td>\n",
       "      <td>66.0</td>\n",
       "      <td>F</td>\n",
       "      <td>White</td>\n",
       "      <td>Not Hispanic or Latino</td>\n",
       "      <td>NaN</td>\n",
       "    </tr>\n",
       "    <tr>\n",
       "      <th>4</th>\n",
       "      <td>118</td>\n",
       "      <td>92.0</td>\n",
       "      <td>F</td>\n",
       "      <td>Black/African-American</td>\n",
       "      <td>Not Hispanic or Latino</td>\n",
       "      <td>NaN</td>\n",
       "    </tr>\n",
       "  </tbody>\n",
       "</table>\n",
       "</div>"
      ],
      "text/plain": [
       "   PATIENT_ID  AGE_AT_LAST_ENCOUNTER gender                    race  \\\n",
       "0          49                   79.0      M                   White   \n",
       "1          99                   86.0      F                   White   \n",
       "2         104                   84.0      M                   White   \n",
       "3         114                   66.0      F                   White   \n",
       "4         118                   92.0      F  Black/African-American   \n",
       "\n",
       "                ETHNICITY DATE_OF_DEATH_D  \n",
       "0  Not Hispanic or Latino             NaN  \n",
       "1  Not Hispanic or Latino             NaN  \n",
       "2  Not Hispanic or Latino             NaN  \n",
       "3  Not Hispanic or Latino             NaN  \n",
       "4  Not Hispanic or Latino             NaN  "
      ]
     },
     "execution_count": 175,
     "metadata": {},
     "output_type": "execute_result"
    }
   ],
   "source": [
    "cohort2move.head()"
   ]
  },
  {
   "cell_type": "code",
   "execution_count": 85,
   "metadata": {},
   "outputs": [],
   "source": [
    "cohort2removeddf = cohort2move[~cohort2move.PATIENT_ID.isin(icd_subset_df.PATIENT_ID)]"
   ]
  },
  {
   "cell_type": "code",
   "execution_count": 86,
   "metadata": {},
   "outputs": [
    {
     "data": {
      "text/plain": [
       "(30000, 6)"
      ]
     },
     "execution_count": 86,
     "metadata": {},
     "output_type": "execute_result"
    }
   ],
   "source": [
    "cohort2sampdf = cohort2removeddf.sample(n=30000,random_state=10,replace=False)\n",
    "cohort2sampdf.shape"
   ]
  },
  {
   "cell_type": "code",
   "execution_count": 87,
   "metadata": {},
   "outputs": [],
   "source": [
    "cohort2sampdf.to_csv(join(mypath,\"01_PATIENT_COHORT_2_NEW.csv\"),sep=\"|\")"
   ]
  },
  {
   "cell_type": "markdown",
   "metadata": {},
   "source": [
    "# Next step we need to create a join list with just the ids in moved from cohort2 set\n",
    "\n",
    "Then we can merge them into a consolidated cohort1"
   ]
  },
  {
   "cell_type": "code",
   "execution_count": 160,
   "metadata": {},
   "outputs": [
    {
     "data": {
      "text/plain": [
       "[('cohort1_dta_part2', 4345755538),\n",
       " ('cohort1_dta', 484277631),\n",
       " ('cohort2removeddf', 32042224),\n",
       " ('cohort2move', 31691931),\n",
       " ('icd_subset_df', 25252484),\n",
       " ('j84_df', 13203326),\n",
       " ('cohort2sampdf', 8145564),\n",
       " ('cohort2movedf', 611123),\n",
       " ('dx_cols', 1448),\n",
       " ('icd_subset', 1448),\n",
       " ('NaiveBayesAnalyzer', 1056),\n",
       " ('Text', 1056),\n",
       " ('TextBlob', 1056),\n",
       " ('WordNetLemmatizer', 1056),\n",
       " ('icd_codes_list', 680),\n",
       " ('pattern', 476),\n",
       " ('combinations', 400),\n",
       " ('onlyfiles_sorted', 240),\n",
       " ('onlyfiles', 192),\n",
       " ('onlyfiles2', 192),\n",
       " ('onlyfiles2edit', 160),\n",
       " ('isfile', 136),\n",
       " ('join', 136),\n",
       " ('readin', 136),\n",
       " ('readin2', 136),\n",
       " ('list_', 128),\n",
       " ('mypath', 108),\n",
       " ('suffix', 96),\n",
       " ('np', 80),\n",
       " ('pd', 80),\n",
       " ('plt', 80),\n",
       " ('sns', 80),\n",
       " ('listdir', 72),\n",
       " ('reduce', 72),\n",
       " ('col', 59),\n",
       " ('x', 59),\n",
       " ('stopwords', 56),\n",
       " ('row', 53),\n",
       " ('frame', 24),\n",
       " ('tmpdf', 24)]"
      ]
     },
     "execution_count": 160,
     "metadata": {},
     "output_type": "execute_result"
    }
   ],
   "source": [
    "# quick mem check\n",
    "import sys\n",
    "\n",
    "# These are the usual ipython objects, including this one you are creating\n",
    "ipython_vars = ['In', 'Out', 'exit', 'quit', 'get_ipython', 'ipython_vars']\n",
    "\n",
    "# Get a sorted list of the objects and their sizes\n",
    "sorted([(x, sys.getsizeof(globals().get(x))) for x in dir() if not x.startswith('_') and x not in sys.modules and x not in ipython_vars], key=lambda x: x[1], reverse=True)"
   ]
  },
  {
   "cell_type": "code",
   "execution_count": 116,
   "metadata": {},
   "outputs": [],
   "source": [
    "onlyfiles2 = [join(mypath,f) for f in listdir(mypath) if isfile(join(mypath, f))]"
   ]
  },
  {
   "cell_type": "code",
   "execution_count": 117,
   "metadata": {
    "scrolled": false
   },
   "outputs": [
    {
     "data": {
      "text/plain": [
       "['Z:/FINAL OUTPUT v2/01_PATIENT_COHORT_1_MOVEDFROMCOHORT2.csv',\n",
       " 'Z:/FINAL OUTPUT v2/07_ENCOUNTER_SOCIAL_HX_COHORT_1.csv',\n",
       " 'Z:/FINAL OUTPUT v2/01_PATIENT_COHORT_1.csv',\n",
       " 'Z:/FINAL OUTPUT v2/09_DX_INFO_COHORT_1.csv',\n",
       " 'Z:/FINAL OUTPUT v2/merged_cohort1.csv',\n",
       " 'Z:/FINAL OUTPUT v2/05_ENCOUNTER_PROVIDER_COHORT_1.csv',\n",
       " 'Z:/FINAL OUTPUT v2/04_ENCOUNTER_COHORT_2.csv',\n",
       " 'Z:/FINAL OUTPUT v2/06_ENCOUNTER_PROVIDER_COHORT_2.csv',\n",
       " 'Z:/FINAL OUTPUT v2/02_PATIENT_COHORT_2.csv',\n",
       " 'Z:/FINAL OUTPUT v2/merged_cohort2.csv',\n",
       " 'Z:/FINAL OUTPUT v2/01_PATIENT_COHORT_2_NEW.csv',\n",
       " 'Z:/FINAL OUTPUT v2/03_ENCOUNTER_COHORT_1.csv',\n",
       " 'Z:/FINAL OUTPUT v2/11_COHORT_1_RADIOLOGY.csv',\n",
       " 'Z:/FINAL OUTPUT v2/08_ENCOUNTER_SOCIAL_HX_COHORT_2.csv',\n",
       " 'Z:/FINAL OUTPUT v2/10_DX_INFO_COHORT_2.csv',\n",
       " 'Z:/FINAL OUTPUT v2/12_COHORT_2_RADIOLOGY.csv']"
      ]
     },
     "execution_count": 117,
     "metadata": {},
     "output_type": "execute_result"
    }
   ],
   "source": [
    "onlyfiles2"
   ]
  },
  {
   "cell_type": "code",
   "execution_count": 150,
   "metadata": {},
   "outputs": [],
   "source": [
    "onlyfiles2edit = list( onlyfiles2[i] for i in [0, 6, 7, 13,14,15] )\n",
    "# onlyfiles2edit = list( onlyfiles2[i] for i in [0,15] )"
   ]
  },
  {
   "cell_type": "code",
   "execution_count": 151,
   "metadata": {
    "scrolled": true
   },
   "outputs": [
    {
     "data": {
      "text/plain": [
       "['Z:/FINAL OUTPUT v2/01_PATIENT_COHORT_1_MOVEDFROMCOHORT2.csv',\n",
       " 'Z:/FINAL OUTPUT v2/04_ENCOUNTER_COHORT_2.csv',\n",
       " 'Z:/FINAL OUTPUT v2/06_ENCOUNTER_PROVIDER_COHORT_2.csv',\n",
       " 'Z:/FINAL OUTPUT v2/08_ENCOUNTER_SOCIAL_HX_COHORT_2.csv',\n",
       " 'Z:/FINAL OUTPUT v2/10_DX_INFO_COHORT_2.csv',\n",
       " 'Z:/FINAL OUTPUT v2/12_COHORT_2_RADIOLOGY.csv']"
      ]
     },
     "execution_count": 151,
     "metadata": {},
     "output_type": "execute_result"
    }
   ],
   "source": [
    "onlyfiles2edit"
   ]
  },
  {
   "cell_type": "code",
   "execution_count": null,
   "metadata": {},
   "outputs": [],
   "source": [
    "# test\n",
    "def test(listoffiles,like,patientids):\n",
    "    for f in listoffiles:\n",
    "        if f.find(like) == -1:\n",
    "            print(\"skipped:\",f)\n",
    "        else:\n",
    "            print(\"added to list_\",f)\n",
    "            df = pd.read_csv(f,index_col=None, header=0,sep=\"|\")\n",
    "            df.columns = [x.lower() for x in df.columns]\n",
    "            df = df[df['patient_id'].isin(patientids)]\n",
    "            return(df)"
   ]
  },
  {
   "cell_type": "code",
   "execution_count": 169,
   "metadata": {},
   "outputs": [],
   "source": [
    "patientlist = [114]"
   ]
  },
  {
   "cell_type": "code",
   "execution_count": 173,
   "metadata": {},
   "outputs": [
    {
     "name": "stdout",
     "output_type": "stream",
     "text": [
      "added to list_ Z:/FINAL OUTPUT v2/01_PATIENT_COHORT_1_MOVEDFROMCOHORT2.csv\n"
     ]
    },
    {
     "data": {
      "text/html": [
       "<div>\n",
       "<style scoped>\n",
       "    .dataframe tbody tr th:only-of-type {\n",
       "        vertical-align: middle;\n",
       "    }\n",
       "\n",
       "    .dataframe tbody tr th {\n",
       "        vertical-align: top;\n",
       "    }\n",
       "\n",
       "    .dataframe thead th {\n",
       "        text-align: right;\n",
       "    }\n",
       "</style>\n",
       "<table border=\"1\" class=\"dataframe\">\n",
       "  <thead>\n",
       "    <tr style=\"text-align: right;\">\n",
       "      <th></th>\n",
       "      <th>patient_id</th>\n",
       "      <th>age_at_last_encounter</th>\n",
       "      <th>gender</th>\n",
       "      <th>race</th>\n",
       "      <th>ethnicity</th>\n",
       "      <th>date_of_death_d</th>\n",
       "    </tr>\n",
       "  </thead>\n",
       "  <tbody>\n",
       "    <tr>\n",
       "      <th>0</th>\n",
       "      <td>114</td>\n",
       "      <td>66.0</td>\n",
       "      <td>F</td>\n",
       "      <td>White</td>\n",
       "      <td>Not Hispanic or Latino</td>\n",
       "      <td>NaN</td>\n",
       "    </tr>\n",
       "  </tbody>\n",
       "</table>\n",
       "</div>"
      ],
      "text/plain": [
       "   patient_id  age_at_last_encounter gender   race               ethnicity  \\\n",
       "0         114                   66.0      F  White  Not Hispanic or Latino   \n",
       "\n",
       "  date_of_death_d  \n",
       "0             NaN  "
      ]
     },
     "execution_count": 173,
     "metadata": {},
     "output_type": "execute_result"
    }
   ],
   "source": [
    "test(onlyfiles2edit,\"COHORT\",patientlist)"
   ]
  },
  {
   "cell_type": "markdown",
   "metadata": {},
   "source": [
    "### Edited fx\n",
    "\n",
    "For mem purposes let's amend each read in to be just where it matches the patient id string"
   ]
  },
  {
   "cell_type": "code",
   "execution_count": 180,
   "metadata": {},
   "outputs": [],
   "source": [
    "patientlist = icd_subset_df['PATIENT_ID']"
   ]
  },
  {
   "cell_type": "code",
   "execution_count": 174,
   "metadata": {},
   "outputs": [],
   "source": [
    "frame = pd.DataFrame()\n",
    "list_ = []\n",
    "\n",
    "def readin_select(listoffiles,like,patientids):\n",
    "    for f in listoffiles:\n",
    "        if f.find(like) == -1:\n",
    "            print(\"skipped:\",f)\n",
    "        else:\n",
    "            print(\"added to list_\",f)\n",
    "            df = pd.read_csv(f,index_col=None, header=0,sep=\"|\")\n",
    "            df.columns = [x.lower() for x in df.columns]\n",
    "            df = df[df['patient_id'].isin(patientidlist)]\n",
    "            list_.append(df)\n",
    "    suffix = ('_patient', '_encounter', '_encounter_provider', '_encounter_social','_dx_info','_radiology')\n",
    "    for i in range(0,len(list_)):\n",
    "        print(\"iteration number\",i)\n",
    "        tmp1 = pd.DataFrame(list_[i].iloc[:,0])\n",
    "        print(\"suffix : \",suffix[i])\n",
    "#         print(tmp1)\n",
    "        print(list_[i].iloc[i])\n",
    "        list_[i] = list_[i].iloc[:,1:].add_suffix(suffix[i])\n",
    "        list_[i] = pd.concat((tmp1,(list_[i])),axis=1)\n",
    "    frame = reduce(lambda x, y: pd.merge(x, y, on = 'patient_id',how=\"left\"), list_)\n",
    "    return(frame)"
   ]
  },
  {
   "cell_type": "code",
   "execution_count": 157,
   "metadata": {
    "scrolled": true
   },
   "outputs": [
    {
     "name": "stdout",
     "output_type": "stream",
     "text": [
      "added to list_ Z:/FINAL OUTPUT v2/01_PATIENT_COHORT_1_MOVEDFROMCOHORT2.csv\n",
      "added to list_ Z:/FINAL OUTPUT v2/04_ENCOUNTER_COHORT_2.csv\n"
     ]
    },
    {
     "name": "stderr",
     "output_type": "stream",
     "text": [
      "C:\\ProgramData\\Anaconda3\\lib\\site-packages\\IPython\\core\\interactiveshell.py:2850: DtypeWarning: Columns (6,13,16) have mixed types. Specify dtype option on import or set low_memory=False.\n",
      "  if self.run_code(code, result):\n"
     ]
    },
    {
     "name": "stdout",
     "output_type": "stream",
     "text": [
      "added to list_ Z:/FINAL OUTPUT v2/06_ENCOUNTER_PROVIDER_COHORT_2.csv\n"
     ]
    },
    {
     "name": "stderr",
     "output_type": "stream",
     "text": [
      "C:\\ProgramData\\Anaconda3\\lib\\site-packages\\IPython\\core\\interactiveshell.py:2850: DtypeWarning: Columns (2,6) have mixed types. Specify dtype option on import or set low_memory=False.\n",
      "  if self.run_code(code, result):\n"
     ]
    },
    {
     "name": "stdout",
     "output_type": "stream",
     "text": [
      "added to list_ Z:/FINAL OUTPUT v2/08_ENCOUNTER_SOCIAL_HX_COHORT_2.csv\n",
      "added to list_ Z:/FINAL OUTPUT v2/10_DX_INFO_COHORT_2.csv\n"
     ]
    },
    {
     "name": "stderr",
     "output_type": "stream",
     "text": [
      "C:\\ProgramData\\Anaconda3\\lib\\site-packages\\IPython\\core\\interactiveshell.py:2850: DtypeWarning: Columns (98,110,113,116,117,119,120,122,123,125,126,128,129,131,132,134,135,137,138,140,141,143,144,146,147,149,150,152,153,155,156,158,159,161,162,164,165,167,168,170,171,173,174,176,177,179,180,182,183,185,186,188,189,191,192,194,195,197,198,200,201,203,204,206,207,209,210,212,213,215,216,218,219,221,222,224,225,227,228,230,231,233,234,236,237,239,240,242,243,245,246,248,249,251,252,254,255,257,258) have mixed types. Specify dtype option on import or set low_memory=False.\n",
      "  if self.run_code(code, result):\n"
     ]
    },
    {
     "name": "stdout",
     "output_type": "stream",
     "text": [
      "added to list_ Z:/FINAL OUTPUT v2/12_COHORT_2_RADIOLOGY.csv\n",
      "iteration number 0\n",
      "suffix :  _patient\n",
      "patient_id                                  114\n",
      "age_at_last_encounter                        66\n",
      "gender                                        F\n",
      "race                                      White\n",
      "ethnicity                Not Hispanic or Latino\n",
      "date_of_death_d                             NaN\n",
      "Name: 0, dtype: object\n",
      "iteration number 1\n",
      "suffix :  _encounter\n",
      "patient_id                                              49\n",
      "encounter_id                                       7460089\n",
      "enc_eio                                                  I\n",
      "visit_status_1                                   Completed\n",
      "visit_status_2                                         NaN\n",
      "visit_status_3                                         NaN\n",
      "visit_status_4                                         NaN\n",
      "adm_date_d                         2016-05-20 00:00:00.000\n",
      "disc_date_d                        2016-05-27 00:00:00.000\n",
      "start_date_d                       2016-05-20 00:00:00.000\n",
      "end_date_d                         2016-05-27 00:00:00.000\n",
      "admit_source_1    Non-Health Care Facility Point of Origin\n",
      "admit_source_2                                         NaN\n",
      "admit_source_3                                         NaN\n",
      "disch_disp_1                                          Home\n",
      "disch_disp_2                                           NaN\n",
      "disch_disp_3                                           NaN\n",
      "zip_d                                               113043\n",
      "enc_fin_class                                     Medicare\n",
      "Name: 1, dtype: object\n",
      "iteration number 2\n",
      "suffix :  _encounter_provider\n",
      "patient_id                            155043\n",
      "encounter_id                          155164\n",
      "admitting_prov_id                        NaN\n",
      "admitting_provider_department            NaN\n",
      "attnd_prov_id                           6622\n",
      "attending_department             UC MATTESON\n",
      "referring_prov_id                      84269\n",
      "referring_department                     NaN\n",
      "Name: 2, dtype: object\n",
      "iteration number 3\n",
      "suffix :  _encounter_social\n",
      "patient_id                                      49\n",
      "contact_date_off           2016-03-02 00:00:00.000\n",
      "is_tobacco_user                                NaN\n",
      "tobacco_pak_per_dy                             1.5\n",
      "tobacco_used_years                              50\n",
      "tobacco_comment                                NaN\n",
      "smoking_quit_date_off      2002-01-26 00:00:00.000\n",
      "cigarettes_yn                                    Y\n",
      "pipes_yn                                         N\n",
      "cigars_yn                                        N\n",
      "snuff_yn                                         N\n",
      "chew_yn                                          N\n",
      "is_alcohol_user                                NaN\n",
      "alcohol_oz_per_wk                          5.4 - 6\n",
      "is_ill_drug_user                               NaN\n",
      "iv_drug_user_yn                                  N\n",
      "illicit_drug_freq                              NaN\n",
      "is_sexually_actv                               NaN\n",
      "female_partner_yn                                N\n",
      "male_partner_yn                                  N\n",
      "condom_yn                                        N\n",
      "pill_yn                                          N\n",
      "diaphragm_yn                                     N\n",
      "iud_yn                                           N\n",
      "surgical_yn                                      N\n",
      "spermicide_yn                                    N\n",
      "implant_yn                                       N\n",
      "rhythm_yn                                        N\n",
      "injection_yn                                     N\n",
      "sponge_yn                                        N\n",
      "inserts_yn                                       N\n",
      "abstinence_yn                                    N\n",
      "years_education                                NaN\n",
      "tob_src_c                                 Provider\n",
      "alcohol_src_c                             Provider\n",
      "sex_src_c                                 Provider\n",
      "alcohol_use_c                                  Yes\n",
      "ill_drug_user_c                                 No\n",
      "sexually_active_c                        Not Asked\n",
      "tobacco_user                                  Quit\n",
      "smokeless_tob_use_c                              3\n",
      "smokeless_quit_date_off                        NaN\n",
      "smoking_tob_use                      Former Smoker\n",
      "unknown_fam_hx_yn                              NaN\n",
      "smoking_start_date_off                         NaN\n",
      "Name: 3, dtype: object\n",
      "iteration number 4\n",
      "suffix :  _dx_info\n",
      "patient_id                                    195\n",
      "encounter_id                              4244310\n",
      "dx_1                                       780.09\n",
      "dx_desc_1       ALTERATION OF CONSCIOUSNESS OTHER\n",
      "dx1_rank                                        1\n",
      "dx_2                                          NaN\n",
      "dx_desc_2                                     NaN\n",
      "dx2_rank                                      NaN\n",
      "dx_3                                          NaN\n",
      "dx_desc_3                                     NaN\n",
      "dx3_rank                                      NaN\n",
      "dx_4                                          NaN\n",
      "dx_desc_4                                     NaN\n",
      "dx4_rank                                      NaN\n",
      "dx_5                                          NaN\n",
      "dx_desc_5                                     NaN\n",
      "dx5_rank                                      NaN\n",
      "dx_6                                          NaN\n",
      "dx_desc_6                                     NaN\n",
      "dx6_rank                                      NaN\n",
      "dx_7                                          NaN\n",
      "dx_desc_7                                     NaN\n",
      "dx7_rank                                      NaN\n",
      "dx_8                                          NaN\n",
      "dx_desc_8                                     NaN\n",
      "dx8_rank                                      NaN\n",
      "dx_9                                          NaN\n",
      "dx_desc_9                                     NaN\n",
      "dx9_rank                                      NaN\n",
      "dx_10                                         NaN\n",
      "                              ...                \n",
      "dx_77                                         NaN\n",
      "dx_desc_77                                    NaN\n",
      "dx77_rank                                     NaN\n",
      "dx_78                                         NaN\n",
      "dx_desc_78                                    NaN\n",
      "dx78_rank                                     NaN\n",
      "dx_79                                         NaN\n",
      "dx_desc_79                                    NaN\n",
      "dx79_rank                                     NaN\n",
      "dx_80                                         NaN\n",
      "dx_desc_80                                    NaN\n",
      "dx80_rank                                     NaN\n",
      "dx_81                                         NaN\n",
      "dx_desc_81                                    NaN\n",
      "dx81_rank                                     NaN\n",
      "dx_82                                         NaN\n",
      "dx_desc_82                                    NaN\n",
      "dx82_rank                                     NaN\n",
      "dx_83                                         NaN\n",
      "dx_desc_83                                    NaN\n",
      "dx83_rank                                     NaN\n",
      "dx_84                                         NaN\n",
      "dx_desc_84                                    NaN\n",
      "dx84_rank                                     NaN\n",
      "dx_85                                         NaN\n",
      "dx_desc_85                                    NaN\n",
      "dx85_rank                                     NaN\n",
      "dx_86                                         NaN\n",
      "dx_desc_86                                    NaN\n",
      "dx86_rank                                     NaN\n",
      "Name: 4, Length: 260, dtype: object\n",
      "iteration number 5\n",
      "suffix :  _radiology\n",
      "patient_id                            1764333\n",
      "encounter_id                          2837972\n",
      "order_proc_id_deid                     560741\n",
      "ordering_date_off     2014-11-01 00:00:00.000\n",
      "exam_type               XR Port Chest, 1 View\n",
      "Name: 5, dtype: object\n"
     ]
    },
    {
     "ename": "MemoryError",
     "evalue": "",
     "output_type": "error",
     "traceback": [
      "\u001b[1;31m---------------------------------------------------------------------------\u001b[0m",
      "\u001b[1;31mMemoryError\u001b[0m                               Traceback (most recent call last)",
      "\u001b[1;32m<ipython-input-157-7f12aead3fd8>\u001b[0m in \u001b[0;36m<module>\u001b[1;34m()\u001b[0m\n\u001b[1;32m----> 1\u001b[1;33m \u001b[0mcohort1_dta_part2\u001b[0m \u001b[1;33m=\u001b[0m \u001b[0mreadin\u001b[0m\u001b[1;33m(\u001b[0m\u001b[0monlyfiles2edit\u001b[0m\u001b[1;33m,\u001b[0m\u001b[1;34m\"COHORT\"\u001b[0m\u001b[1;33m)\u001b[0m\u001b[1;33m\u001b[0m\u001b[0m\n\u001b[0m",
      "\u001b[1;32m<ipython-input-156-8fc9e27ebe02>\u001b[0m in \u001b[0;36mreadin\u001b[1;34m(listoffiles, like)\u001b[0m\n\u001b[0;32m     20\u001b[0m         \u001b[0mlist_\u001b[0m\u001b[1;33m[\u001b[0m\u001b[0mi\u001b[0m\u001b[1;33m]\u001b[0m \u001b[1;33m=\u001b[0m \u001b[0mlist_\u001b[0m\u001b[1;33m[\u001b[0m\u001b[0mi\u001b[0m\u001b[1;33m]\u001b[0m\u001b[1;33m.\u001b[0m\u001b[0miloc\u001b[0m\u001b[1;33m[\u001b[0m\u001b[1;33m:\u001b[0m\u001b[1;33m,\u001b[0m\u001b[1;36m1\u001b[0m\u001b[1;33m:\u001b[0m\u001b[1;33m]\u001b[0m\u001b[1;33m.\u001b[0m\u001b[0madd_suffix\u001b[0m\u001b[1;33m(\u001b[0m\u001b[0msuffix\u001b[0m\u001b[1;33m[\u001b[0m\u001b[0mi\u001b[0m\u001b[1;33m]\u001b[0m\u001b[1;33m)\u001b[0m\u001b[1;33m\u001b[0m\u001b[0m\n\u001b[0;32m     21\u001b[0m         \u001b[0mlist_\u001b[0m\u001b[1;33m[\u001b[0m\u001b[0mi\u001b[0m\u001b[1;33m]\u001b[0m \u001b[1;33m=\u001b[0m \u001b[0mpd\u001b[0m\u001b[1;33m.\u001b[0m\u001b[0mconcat\u001b[0m\u001b[1;33m(\u001b[0m\u001b[1;33m(\u001b[0m\u001b[0mtmp1\u001b[0m\u001b[1;33m,\u001b[0m\u001b[1;33m(\u001b[0m\u001b[0mlist_\u001b[0m\u001b[1;33m[\u001b[0m\u001b[0mi\u001b[0m\u001b[1;33m]\u001b[0m\u001b[1;33m)\u001b[0m\u001b[1;33m)\u001b[0m\u001b[1;33m,\u001b[0m\u001b[0maxis\u001b[0m\u001b[1;33m=\u001b[0m\u001b[1;36m1\u001b[0m\u001b[1;33m)\u001b[0m\u001b[1;33m\u001b[0m\u001b[0m\n\u001b[1;32m---> 22\u001b[1;33m     \u001b[0mframe\u001b[0m \u001b[1;33m=\u001b[0m \u001b[0mreduce\u001b[0m\u001b[1;33m(\u001b[0m\u001b[1;32mlambda\u001b[0m \u001b[0mx\u001b[0m\u001b[1;33m,\u001b[0m \u001b[0my\u001b[0m\u001b[1;33m:\u001b[0m \u001b[0mpd\u001b[0m\u001b[1;33m.\u001b[0m\u001b[0mmerge\u001b[0m\u001b[1;33m(\u001b[0m\u001b[0mx\u001b[0m\u001b[1;33m,\u001b[0m \u001b[0my\u001b[0m\u001b[1;33m,\u001b[0m \u001b[0mon\u001b[0m \u001b[1;33m=\u001b[0m \u001b[1;34m'patient_id'\u001b[0m\u001b[1;33m,\u001b[0m\u001b[0mhow\u001b[0m\u001b[1;33m=\u001b[0m\u001b[1;34m\"left\"\u001b[0m\u001b[1;33m)\u001b[0m\u001b[1;33m,\u001b[0m \u001b[0mlist_\u001b[0m\u001b[1;33m)\u001b[0m\u001b[1;33m\u001b[0m\u001b[0m\n\u001b[0m\u001b[0;32m     23\u001b[0m     \u001b[1;32mreturn\u001b[0m\u001b[1;33m(\u001b[0m\u001b[0mframe\u001b[0m\u001b[1;33m)\u001b[0m\u001b[1;33m\u001b[0m\u001b[0m\n",
      "\u001b[1;32m<ipython-input-156-8fc9e27ebe02>\u001b[0m in \u001b[0;36m<lambda>\u001b[1;34m(x, y)\u001b[0m\n\u001b[0;32m     20\u001b[0m         \u001b[0mlist_\u001b[0m\u001b[1;33m[\u001b[0m\u001b[0mi\u001b[0m\u001b[1;33m]\u001b[0m \u001b[1;33m=\u001b[0m \u001b[0mlist_\u001b[0m\u001b[1;33m[\u001b[0m\u001b[0mi\u001b[0m\u001b[1;33m]\u001b[0m\u001b[1;33m.\u001b[0m\u001b[0miloc\u001b[0m\u001b[1;33m[\u001b[0m\u001b[1;33m:\u001b[0m\u001b[1;33m,\u001b[0m\u001b[1;36m1\u001b[0m\u001b[1;33m:\u001b[0m\u001b[1;33m]\u001b[0m\u001b[1;33m.\u001b[0m\u001b[0madd_suffix\u001b[0m\u001b[1;33m(\u001b[0m\u001b[0msuffix\u001b[0m\u001b[1;33m[\u001b[0m\u001b[0mi\u001b[0m\u001b[1;33m]\u001b[0m\u001b[1;33m)\u001b[0m\u001b[1;33m\u001b[0m\u001b[0m\n\u001b[0;32m     21\u001b[0m         \u001b[0mlist_\u001b[0m\u001b[1;33m[\u001b[0m\u001b[0mi\u001b[0m\u001b[1;33m]\u001b[0m \u001b[1;33m=\u001b[0m \u001b[0mpd\u001b[0m\u001b[1;33m.\u001b[0m\u001b[0mconcat\u001b[0m\u001b[1;33m(\u001b[0m\u001b[1;33m(\u001b[0m\u001b[0mtmp1\u001b[0m\u001b[1;33m,\u001b[0m\u001b[1;33m(\u001b[0m\u001b[0mlist_\u001b[0m\u001b[1;33m[\u001b[0m\u001b[0mi\u001b[0m\u001b[1;33m]\u001b[0m\u001b[1;33m)\u001b[0m\u001b[1;33m)\u001b[0m\u001b[1;33m,\u001b[0m\u001b[0maxis\u001b[0m\u001b[1;33m=\u001b[0m\u001b[1;36m1\u001b[0m\u001b[1;33m)\u001b[0m\u001b[1;33m\u001b[0m\u001b[0m\n\u001b[1;32m---> 22\u001b[1;33m     \u001b[0mframe\u001b[0m \u001b[1;33m=\u001b[0m \u001b[0mreduce\u001b[0m\u001b[1;33m(\u001b[0m\u001b[1;32mlambda\u001b[0m \u001b[0mx\u001b[0m\u001b[1;33m,\u001b[0m \u001b[0my\u001b[0m\u001b[1;33m:\u001b[0m \u001b[0mpd\u001b[0m\u001b[1;33m.\u001b[0m\u001b[0mmerge\u001b[0m\u001b[1;33m(\u001b[0m\u001b[0mx\u001b[0m\u001b[1;33m,\u001b[0m \u001b[0my\u001b[0m\u001b[1;33m,\u001b[0m \u001b[0mon\u001b[0m \u001b[1;33m=\u001b[0m \u001b[1;34m'patient_id'\u001b[0m\u001b[1;33m,\u001b[0m\u001b[0mhow\u001b[0m\u001b[1;33m=\u001b[0m\u001b[1;34m\"left\"\u001b[0m\u001b[1;33m)\u001b[0m\u001b[1;33m,\u001b[0m \u001b[0mlist_\u001b[0m\u001b[1;33m)\u001b[0m\u001b[1;33m\u001b[0m\u001b[0m\n\u001b[0m\u001b[0;32m     23\u001b[0m     \u001b[1;32mreturn\u001b[0m\u001b[1;33m(\u001b[0m\u001b[0mframe\u001b[0m\u001b[1;33m)\u001b[0m\u001b[1;33m\u001b[0m\u001b[0m\n",
      "\u001b[1;32mC:\\ProgramData\\Anaconda3\\lib\\site-packages\\pandas\\core\\reshape\\merge.py\u001b[0m in \u001b[0;36mmerge\u001b[1;34m(left, right, how, on, left_on, right_on, left_index, right_index, sort, suffixes, copy, indicator, validate)\u001b[0m\n\u001b[0;32m     56\u001b[0m                          \u001b[0mcopy\u001b[0m\u001b[1;33m=\u001b[0m\u001b[0mcopy\u001b[0m\u001b[1;33m,\u001b[0m \u001b[0mindicator\u001b[0m\u001b[1;33m=\u001b[0m\u001b[0mindicator\u001b[0m\u001b[1;33m,\u001b[0m\u001b[1;33m\u001b[0m\u001b[0m\n\u001b[0;32m     57\u001b[0m                          validate=validate)\n\u001b[1;32m---> 58\u001b[1;33m     \u001b[1;32mreturn\u001b[0m \u001b[0mop\u001b[0m\u001b[1;33m.\u001b[0m\u001b[0mget_result\u001b[0m\u001b[1;33m(\u001b[0m\u001b[1;33m)\u001b[0m\u001b[1;33m\u001b[0m\u001b[0m\n\u001b[0m\u001b[0;32m     59\u001b[0m \u001b[1;33m\u001b[0m\u001b[0m\n\u001b[0;32m     60\u001b[0m \u001b[1;33m\u001b[0m\u001b[0m\n",
      "\u001b[1;32mC:\\ProgramData\\Anaconda3\\lib\\site-packages\\pandas\\core\\reshape\\merge.py\u001b[0m in \u001b[0;36mget_result\u001b[1;34m(self)\u001b[0m\n\u001b[0;32m    594\u001b[0m             \u001b[1;33m[\u001b[0m\u001b[1;33m(\u001b[0m\u001b[0mldata\u001b[0m\u001b[1;33m,\u001b[0m \u001b[0mlindexers\u001b[0m\u001b[1;33m)\u001b[0m\u001b[1;33m,\u001b[0m \u001b[1;33m(\u001b[0m\u001b[0mrdata\u001b[0m\u001b[1;33m,\u001b[0m \u001b[0mrindexers\u001b[0m\u001b[1;33m)\u001b[0m\u001b[1;33m]\u001b[0m\u001b[1;33m,\u001b[0m\u001b[1;33m\u001b[0m\u001b[0m\n\u001b[0;32m    595\u001b[0m             \u001b[0maxes\u001b[0m\u001b[1;33m=\u001b[0m\u001b[1;33m[\u001b[0m\u001b[0mllabels\u001b[0m\u001b[1;33m.\u001b[0m\u001b[0mappend\u001b[0m\u001b[1;33m(\u001b[0m\u001b[0mrlabels\u001b[0m\u001b[1;33m)\u001b[0m\u001b[1;33m,\u001b[0m \u001b[0mjoin_index\u001b[0m\u001b[1;33m]\u001b[0m\u001b[1;33m,\u001b[0m\u001b[1;33m\u001b[0m\u001b[0m\n\u001b[1;32m--> 596\u001b[1;33m             concat_axis=0, copy=self.copy)\n\u001b[0m\u001b[0;32m    597\u001b[0m \u001b[1;33m\u001b[0m\u001b[0m\n\u001b[0;32m    598\u001b[0m         \u001b[0mtyp\u001b[0m \u001b[1;33m=\u001b[0m \u001b[0mself\u001b[0m\u001b[1;33m.\u001b[0m\u001b[0mleft\u001b[0m\u001b[1;33m.\u001b[0m\u001b[0m_constructor\u001b[0m\u001b[1;33m\u001b[0m\u001b[0m\n",
      "\u001b[1;32mC:\\ProgramData\\Anaconda3\\lib\\site-packages\\pandas\\core\\internals.py\u001b[0m in \u001b[0;36mconcatenate_block_managers\u001b[1;34m(mgrs_indexers, axes, concat_axis, copy)\u001b[0m\n\u001b[0;32m   5201\u001b[0m         \u001b[1;32melse\u001b[0m\u001b[1;33m:\u001b[0m\u001b[1;33m\u001b[0m\u001b[0m\n\u001b[0;32m   5202\u001b[0m             b = make_block(\n\u001b[1;32m-> 5203\u001b[1;33m                 \u001b[0mconcatenate_join_units\u001b[0m\u001b[1;33m(\u001b[0m\u001b[0mjoin_units\u001b[0m\u001b[1;33m,\u001b[0m \u001b[0mconcat_axis\u001b[0m\u001b[1;33m,\u001b[0m \u001b[0mcopy\u001b[0m\u001b[1;33m=\u001b[0m\u001b[0mcopy\u001b[0m\u001b[1;33m)\u001b[0m\u001b[1;33m,\u001b[0m\u001b[1;33m\u001b[0m\u001b[0m\n\u001b[0m\u001b[0;32m   5204\u001b[0m                 placement=placement)\n\u001b[0;32m   5205\u001b[0m         \u001b[0mblocks\u001b[0m\u001b[1;33m.\u001b[0m\u001b[0mappend\u001b[0m\u001b[1;33m(\u001b[0m\u001b[0mb\u001b[0m\u001b[1;33m)\u001b[0m\u001b[1;33m\u001b[0m\u001b[0m\n",
      "\u001b[1;32mC:\\ProgramData\\Anaconda3\\lib\\site-packages\\pandas\\core\\internals.py\u001b[0m in \u001b[0;36mconcatenate_join_units\u001b[1;34m(join_units, concat_axis, copy)\u001b[0m\n\u001b[0;32m   5330\u001b[0m     to_concat = [ju.get_reindexed_values(empty_dtype=empty_dtype,\n\u001b[0;32m   5331\u001b[0m                                          upcasted_na=upcasted_na)\n\u001b[1;32m-> 5332\u001b[1;33m                  for ju in join_units]\n\u001b[0m\u001b[0;32m   5333\u001b[0m \u001b[1;33m\u001b[0m\u001b[0m\n\u001b[0;32m   5334\u001b[0m     \u001b[1;32mif\u001b[0m \u001b[0mlen\u001b[0m\u001b[1;33m(\u001b[0m\u001b[0mto_concat\u001b[0m\u001b[1;33m)\u001b[0m \u001b[1;33m==\u001b[0m \u001b[1;36m1\u001b[0m\u001b[1;33m:\u001b[0m\u001b[1;33m\u001b[0m\u001b[0m\n",
      "\u001b[1;32mC:\\ProgramData\\Anaconda3\\lib\\site-packages\\pandas\\core\\internals.py\u001b[0m in \u001b[0;36m<listcomp>\u001b[1;34m(.0)\u001b[0m\n\u001b[0;32m   5330\u001b[0m     to_concat = [ju.get_reindexed_values(empty_dtype=empty_dtype,\n\u001b[0;32m   5331\u001b[0m                                          upcasted_na=upcasted_na)\n\u001b[1;32m-> 5332\u001b[1;33m                  for ju in join_units]\n\u001b[0m\u001b[0;32m   5333\u001b[0m \u001b[1;33m\u001b[0m\u001b[0m\n\u001b[0;32m   5334\u001b[0m     \u001b[1;32mif\u001b[0m \u001b[0mlen\u001b[0m\u001b[1;33m(\u001b[0m\u001b[0mto_concat\u001b[0m\u001b[1;33m)\u001b[0m \u001b[1;33m==\u001b[0m \u001b[1;36m1\u001b[0m\u001b[1;33m:\u001b[0m\u001b[1;33m\u001b[0m\u001b[0m\n",
      "\u001b[1;32mC:\\ProgramData\\Anaconda3\\lib\\site-packages\\pandas\\core\\internals.py\u001b[0m in \u001b[0;36mget_reindexed_values\u001b[1;34m(self, empty_dtype, upcasted_na)\u001b[0m\n\u001b[0;32m   5630\u001b[0m             \u001b[1;32mfor\u001b[0m \u001b[0max\u001b[0m\u001b[1;33m,\u001b[0m \u001b[0mindexer\u001b[0m \u001b[1;32min\u001b[0m \u001b[0mself\u001b[0m\u001b[1;33m.\u001b[0m\u001b[0mindexers\u001b[0m\u001b[1;33m.\u001b[0m\u001b[0mitems\u001b[0m\u001b[1;33m(\u001b[0m\u001b[1;33m)\u001b[0m\u001b[1;33m:\u001b[0m\u001b[1;33m\u001b[0m\u001b[0m\n\u001b[0;32m   5631\u001b[0m                 values = algos.take_nd(values, indexer, axis=ax,\n\u001b[1;32m-> 5632\u001b[1;33m                                        fill_value=fill_value)\n\u001b[0m\u001b[0;32m   5633\u001b[0m \u001b[1;33m\u001b[0m\u001b[0m\n\u001b[0;32m   5634\u001b[0m         \u001b[1;32mreturn\u001b[0m \u001b[0mvalues\u001b[0m\u001b[1;33m\u001b[0m\u001b[0m\n",
      "\u001b[1;32mC:\\ProgramData\\Anaconda3\\lib\\site-packages\\pandas\\core\\algorithms.py\u001b[0m in \u001b[0;36mtake_nd\u001b[1;34m(arr, indexer, axis, out, fill_value, mask_info, allow_fill)\u001b[0m\n\u001b[0;32m   1377\u001b[0m             \u001b[0mout\u001b[0m \u001b[1;33m=\u001b[0m \u001b[0mnp\u001b[0m\u001b[1;33m.\u001b[0m\u001b[0mempty\u001b[0m\u001b[1;33m(\u001b[0m\u001b[0mout_shape\u001b[0m\u001b[1;33m,\u001b[0m \u001b[0mdtype\u001b[0m\u001b[1;33m=\u001b[0m\u001b[0mdtype\u001b[0m\u001b[1;33m,\u001b[0m \u001b[0morder\u001b[0m\u001b[1;33m=\u001b[0m\u001b[1;34m'F'\u001b[0m\u001b[1;33m)\u001b[0m\u001b[1;33m\u001b[0m\u001b[0m\n\u001b[0;32m   1378\u001b[0m         \u001b[1;32melse\u001b[0m\u001b[1;33m:\u001b[0m\u001b[1;33m\u001b[0m\u001b[0m\n\u001b[1;32m-> 1379\u001b[1;33m             \u001b[0mout\u001b[0m \u001b[1;33m=\u001b[0m \u001b[0mnp\u001b[0m\u001b[1;33m.\u001b[0m\u001b[0mempty\u001b[0m\u001b[1;33m(\u001b[0m\u001b[0mout_shape\u001b[0m\u001b[1;33m,\u001b[0m \u001b[0mdtype\u001b[0m\u001b[1;33m=\u001b[0m\u001b[0mdtype\u001b[0m\u001b[1;33m)\u001b[0m\u001b[1;33m\u001b[0m\u001b[0m\n\u001b[0m\u001b[0;32m   1380\u001b[0m \u001b[1;33m\u001b[0m\u001b[0m\n\u001b[0;32m   1381\u001b[0m     func = _get_take_nd_function(arr.ndim, arr.dtype, out.dtype, axis=axis,\n",
      "\u001b[1;31mMemoryError\u001b[0m: "
     ]
    }
   ],
   "source": [
    "cohort1_dta_part2 = readin_select(onlyfiles2edit,\"COHORT\",patientlist)"
   ]
  },
  {
   "cell_type": "code",
   "execution_count": 97,
   "metadata": {
    "scrolled": true
   },
   "outputs": [
    {
     "ename": "NameError",
     "evalue": "name 'cohort1_dta_part2' is not defined",
     "output_type": "error",
     "traceback": [
      "\u001b[1;31m---------------------------------------------------------------------------\u001b[0m",
      "\u001b[1;31mNameError\u001b[0m                                 Traceback (most recent call last)",
      "\u001b[1;32m<ipython-input-97-624d496ef487>\u001b[0m in \u001b[0;36m<module>\u001b[1;34m()\u001b[0m\n\u001b[1;32m----> 1\u001b[1;33m \u001b[0mcohort1_dta_part2\u001b[0m\u001b[1;33m\u001b[0m\u001b[0m\n\u001b[0m",
      "\u001b[1;31mNameError\u001b[0m: name 'cohort1_dta_part2' is not defined"
     ]
    }
   ],
   "source": [
    "cohort1_dta_part2.head()"
   ]
  },
  {
   "cell_type": "markdown",
   "metadata": {},
   "source": [
    "### Replace _list with the new filename\n",
    "\n",
    "We do this so we sample jsut the 10k we pulled out rather than the full datset."
   ]
  },
  {
   "cell_type": "code",
   "execution_count": 247,
   "metadata": {},
   "outputs": [
    {
     "data": {
      "text/plain": [
       "'Z:/FINAL OUTPUT v2/01_PATIENT_COHORT_2_NEW.csv'"
      ]
     },
     "execution_count": 247,
     "metadata": {},
     "output_type": "execute_result"
    }
   ],
   "source": [
    "onlyfiles_sorted[1] = join(mypath,\"01_PATIENT_COHORT_2_NEW.csv\")\n",
    "onlyfiles_sorted[1]"
   ]
  },
  {
   "cell_type": "code",
   "execution_count": 373,
   "metadata": {},
   "outputs": [
    {
     "data": {
      "text/plain": [
       "['Z:/FINAL OUTPUT v2/01_PATIENT_COHORT_1.csv',\n",
       " 'Z:/FINAL OUTPUT v2/02_PATIENT_COHORT_2.csv',\n",
       " 'Z:/FINAL OUTPUT v2/03_ENCOUNTER_COHORT_1.csv',\n",
       " 'Z:/FINAL OUTPUT v2/04_ENCOUNTER_COHORT_2.csv']"
      ]
     },
     "execution_count": 373,
     "metadata": {},
     "output_type": "execute_result"
    }
   ],
   "source": [
    "onlyfiles_sorted[0:4]"
   ]
  },
  {
   "cell_type": "code",
   "execution_count": 252,
   "metadata": {
    "scrolled": true
   },
   "outputs": [
    {
     "name": "stdout",
     "output_type": "stream",
     "text": [
      "skipped: Z:/FINAL OUTPUT v2/01_PATIENT_COHORT_1.csv\n",
      "processed Z:/FINAL OUTPUT v2/01_PATIENT_COHORT_2_NEW.csv\n",
      "skipped: Z:/FINAL OUTPUT v2/03_ENCOUNTER_COHORT_1.csv\n",
      "processed Z:/FINAL OUTPUT v2/04_ENCOUNTER_COHORT_2.csv\n"
     ]
    },
    {
     "name": "stderr",
     "output_type": "stream",
     "text": [
      "C:\\ProgramData\\Anaconda3\\lib\\site-packages\\IPython\\core\\interactiveshell.py:2850: DtypeWarning: Columns (6,13,16) have mixed types. Specify dtype option on import or set low_memory=False.\n",
      "  if self.run_code(code, result):\n"
     ]
    },
    {
     "ename": "KeyboardInterrupt",
     "evalue": "",
     "output_type": "error",
     "traceback": [
      "\u001b[1;31m---------------------------------------------------------------------------\u001b[0m",
      "\u001b[1;31mKeyboardInterrupt\u001b[0m                         Traceback (most recent call last)",
      "\u001b[1;32m<ipython-input-252-91ec4f0a4ca9>\u001b[0m in \u001b[0;36m<module>\u001b[1;34m()\u001b[0m\n\u001b[1;32m----> 1\u001b[1;33m \u001b[0mcohort2_dta\u001b[0m \u001b[1;33m=\u001b[0m \u001b[0mreadin\u001b[0m\u001b[1;33m(\u001b[0m\u001b[0monlyfiles_sorted\u001b[0m\u001b[1;33m[\u001b[0m\u001b[1;36m0\u001b[0m\u001b[1;33m:\u001b[0m\u001b[1;36m4\u001b[0m\u001b[1;33m]\u001b[0m\u001b[1;33m,\u001b[0m\u001b[1;34m\"COHORT_2\"\u001b[0m\u001b[1;33m)\u001b[0m\u001b[1;33m\u001b[0m\u001b[0m\n\u001b[0m",
      "\u001b[1;32m<ipython-input-231-1f11588c6850>\u001b[0m in \u001b[0;36mreadin\u001b[1;34m(listoffiles, like)\u001b[0m\n\u001b[0;32m     14\u001b[0m \u001b[1;31m#     return(list_)\u001b[0m\u001b[1;33m\u001b[0m\u001b[1;33m\u001b[0m\u001b[0m\n\u001b[0;32m     15\u001b[0m \u001b[1;31m#     frame = pd.concat(list_,join=\"outer\",ignore_index=True)\u001b[0m\u001b[1;33m\u001b[0m\u001b[1;33m\u001b[0m\u001b[0m\n\u001b[1;32m---> 16\u001b[1;33m     \u001b[0mframe\u001b[0m \u001b[1;33m=\u001b[0m \u001b[0mreduce\u001b[0m\u001b[1;33m(\u001b[0m\u001b[1;32mlambda\u001b[0m \u001b[0mx\u001b[0m\u001b[1;33m,\u001b[0m \u001b[0my\u001b[0m\u001b[1;33m:\u001b[0m \u001b[0mpd\u001b[0m\u001b[1;33m.\u001b[0m\u001b[0mmerge\u001b[0m\u001b[1;33m(\u001b[0m\u001b[0mx\u001b[0m\u001b[1;33m,\u001b[0m \u001b[0my\u001b[0m\u001b[1;33m,\u001b[0m \u001b[0mon\u001b[0m \u001b[1;33m=\u001b[0m \u001b[1;34m'patient_id'\u001b[0m\u001b[1;33m,\u001b[0m\u001b[0mhow\u001b[0m\u001b[1;33m=\u001b[0m\u001b[1;34m\"left\"\u001b[0m\u001b[1;33m)\u001b[0m\u001b[1;33m,\u001b[0m \u001b[0mlist_\u001b[0m\u001b[1;33m)\u001b[0m\u001b[1;33m\u001b[0m\u001b[0m\n\u001b[0m\u001b[0;32m     17\u001b[0m     \u001b[1;32mreturn\u001b[0m\u001b[1;33m(\u001b[0m\u001b[0mframe\u001b[0m\u001b[1;33m)\u001b[0m\u001b[1;33m\u001b[0m\u001b[0m\n",
      "\u001b[1;32m<ipython-input-231-1f11588c6850>\u001b[0m in \u001b[0;36m<lambda>\u001b[1;34m(x, y)\u001b[0m\n\u001b[0;32m     14\u001b[0m \u001b[1;31m#     return(list_)\u001b[0m\u001b[1;33m\u001b[0m\u001b[1;33m\u001b[0m\u001b[0m\n\u001b[0;32m     15\u001b[0m \u001b[1;31m#     frame = pd.concat(list_,join=\"outer\",ignore_index=True)\u001b[0m\u001b[1;33m\u001b[0m\u001b[1;33m\u001b[0m\u001b[0m\n\u001b[1;32m---> 16\u001b[1;33m     \u001b[0mframe\u001b[0m \u001b[1;33m=\u001b[0m \u001b[0mreduce\u001b[0m\u001b[1;33m(\u001b[0m\u001b[1;32mlambda\u001b[0m \u001b[0mx\u001b[0m\u001b[1;33m,\u001b[0m \u001b[0my\u001b[0m\u001b[1;33m:\u001b[0m \u001b[0mpd\u001b[0m\u001b[1;33m.\u001b[0m\u001b[0mmerge\u001b[0m\u001b[1;33m(\u001b[0m\u001b[0mx\u001b[0m\u001b[1;33m,\u001b[0m \u001b[0my\u001b[0m\u001b[1;33m,\u001b[0m \u001b[0mon\u001b[0m \u001b[1;33m=\u001b[0m \u001b[1;34m'patient_id'\u001b[0m\u001b[1;33m,\u001b[0m\u001b[0mhow\u001b[0m\u001b[1;33m=\u001b[0m\u001b[1;34m\"left\"\u001b[0m\u001b[1;33m)\u001b[0m\u001b[1;33m,\u001b[0m \u001b[0mlist_\u001b[0m\u001b[1;33m)\u001b[0m\u001b[1;33m\u001b[0m\u001b[0m\n\u001b[0m\u001b[0;32m     17\u001b[0m     \u001b[1;32mreturn\u001b[0m\u001b[1;33m(\u001b[0m\u001b[0mframe\u001b[0m\u001b[1;33m)\u001b[0m\u001b[1;33m\u001b[0m\u001b[0m\n",
      "\u001b[1;32mC:\\ProgramData\\Anaconda3\\lib\\site-packages\\pandas\\core\\reshape\\merge.py\u001b[0m in \u001b[0;36mmerge\u001b[1;34m(left, right, how, on, left_on, right_on, left_index, right_index, sort, suffixes, copy, indicator, validate)\u001b[0m\n\u001b[0;32m     56\u001b[0m                          \u001b[0mcopy\u001b[0m\u001b[1;33m=\u001b[0m\u001b[0mcopy\u001b[0m\u001b[1;33m,\u001b[0m \u001b[0mindicator\u001b[0m\u001b[1;33m=\u001b[0m\u001b[0mindicator\u001b[0m\u001b[1;33m,\u001b[0m\u001b[1;33m\u001b[0m\u001b[0m\n\u001b[0;32m     57\u001b[0m                          validate=validate)\n\u001b[1;32m---> 58\u001b[1;33m     \u001b[1;32mreturn\u001b[0m \u001b[0mop\u001b[0m\u001b[1;33m.\u001b[0m\u001b[0mget_result\u001b[0m\u001b[1;33m(\u001b[0m\u001b[1;33m)\u001b[0m\u001b[1;33m\u001b[0m\u001b[0m\n\u001b[0m\u001b[0;32m     59\u001b[0m \u001b[1;33m\u001b[0m\u001b[0m\n\u001b[0;32m     60\u001b[0m \u001b[1;33m\u001b[0m\u001b[0m\n",
      "\u001b[1;32mC:\\ProgramData\\Anaconda3\\lib\\site-packages\\pandas\\core\\reshape\\merge.py\u001b[0m in \u001b[0;36mget_result\u001b[1;34m(self)\u001b[0m\n\u001b[0;32m    594\u001b[0m             \u001b[1;33m[\u001b[0m\u001b[1;33m(\u001b[0m\u001b[0mldata\u001b[0m\u001b[1;33m,\u001b[0m \u001b[0mlindexers\u001b[0m\u001b[1;33m)\u001b[0m\u001b[1;33m,\u001b[0m \u001b[1;33m(\u001b[0m\u001b[0mrdata\u001b[0m\u001b[1;33m,\u001b[0m \u001b[0mrindexers\u001b[0m\u001b[1;33m)\u001b[0m\u001b[1;33m]\u001b[0m\u001b[1;33m,\u001b[0m\u001b[1;33m\u001b[0m\u001b[0m\n\u001b[0;32m    595\u001b[0m             \u001b[0maxes\u001b[0m\u001b[1;33m=\u001b[0m\u001b[1;33m[\u001b[0m\u001b[0mllabels\u001b[0m\u001b[1;33m.\u001b[0m\u001b[0mappend\u001b[0m\u001b[1;33m(\u001b[0m\u001b[0mrlabels\u001b[0m\u001b[1;33m)\u001b[0m\u001b[1;33m,\u001b[0m \u001b[0mjoin_index\u001b[0m\u001b[1;33m]\u001b[0m\u001b[1;33m,\u001b[0m\u001b[1;33m\u001b[0m\u001b[0m\n\u001b[1;32m--> 596\u001b[1;33m             concat_axis=0, copy=self.copy)\n\u001b[0m\u001b[0;32m    597\u001b[0m \u001b[1;33m\u001b[0m\u001b[0m\n\u001b[0;32m    598\u001b[0m         \u001b[0mtyp\u001b[0m \u001b[1;33m=\u001b[0m \u001b[0mself\u001b[0m\u001b[1;33m.\u001b[0m\u001b[0mleft\u001b[0m\u001b[1;33m.\u001b[0m\u001b[0m_constructor\u001b[0m\u001b[1;33m\u001b[0m\u001b[0m\n",
      "\u001b[1;32mC:\\ProgramData\\Anaconda3\\lib\\site-packages\\pandas\\core\\internals.py\u001b[0m in \u001b[0;36mconcatenate_block_managers\u001b[1;34m(mgrs_indexers, axes, concat_axis, copy)\u001b[0m\n\u001b[0;32m   5201\u001b[0m         \u001b[1;32melse\u001b[0m\u001b[1;33m:\u001b[0m\u001b[1;33m\u001b[0m\u001b[0m\n\u001b[0;32m   5202\u001b[0m             b = make_block(\n\u001b[1;32m-> 5203\u001b[1;33m                 \u001b[0mconcatenate_join_units\u001b[0m\u001b[1;33m(\u001b[0m\u001b[0mjoin_units\u001b[0m\u001b[1;33m,\u001b[0m \u001b[0mconcat_axis\u001b[0m\u001b[1;33m,\u001b[0m \u001b[0mcopy\u001b[0m\u001b[1;33m=\u001b[0m\u001b[0mcopy\u001b[0m\u001b[1;33m)\u001b[0m\u001b[1;33m,\u001b[0m\u001b[1;33m\u001b[0m\u001b[0m\n\u001b[0m\u001b[0;32m   5204\u001b[0m                 placement=placement)\n\u001b[0;32m   5205\u001b[0m         \u001b[0mblocks\u001b[0m\u001b[1;33m.\u001b[0m\u001b[0mappend\u001b[0m\u001b[1;33m(\u001b[0m\u001b[0mb\u001b[0m\u001b[1;33m)\u001b[0m\u001b[1;33m\u001b[0m\u001b[0m\n",
      "\u001b[1;32mC:\\ProgramData\\Anaconda3\\lib\\site-packages\\pandas\\core\\internals.py\u001b[0m in \u001b[0;36mconcatenate_join_units\u001b[1;34m(join_units, concat_axis, copy)\u001b[0m\n\u001b[0;32m   5330\u001b[0m     to_concat = [ju.get_reindexed_values(empty_dtype=empty_dtype,\n\u001b[0;32m   5331\u001b[0m                                          upcasted_na=upcasted_na)\n\u001b[1;32m-> 5332\u001b[1;33m                  for ju in join_units]\n\u001b[0m\u001b[0;32m   5333\u001b[0m \u001b[1;33m\u001b[0m\u001b[0m\n\u001b[0;32m   5334\u001b[0m     \u001b[1;32mif\u001b[0m \u001b[0mlen\u001b[0m\u001b[1;33m(\u001b[0m\u001b[0mto_concat\u001b[0m\u001b[1;33m)\u001b[0m \u001b[1;33m==\u001b[0m \u001b[1;36m1\u001b[0m\u001b[1;33m:\u001b[0m\u001b[1;33m\u001b[0m\u001b[0m\n",
      "\u001b[1;32mC:\\ProgramData\\Anaconda3\\lib\\site-packages\\pandas\\core\\internals.py\u001b[0m in \u001b[0;36m<listcomp>\u001b[1;34m(.0)\u001b[0m\n\u001b[0;32m   5330\u001b[0m     to_concat = [ju.get_reindexed_values(empty_dtype=empty_dtype,\n\u001b[0;32m   5331\u001b[0m                                          upcasted_na=upcasted_na)\n\u001b[1;32m-> 5332\u001b[1;33m                  for ju in join_units]\n\u001b[0m\u001b[0;32m   5333\u001b[0m \u001b[1;33m\u001b[0m\u001b[0m\n\u001b[0;32m   5334\u001b[0m     \u001b[1;32mif\u001b[0m \u001b[0mlen\u001b[0m\u001b[1;33m(\u001b[0m\u001b[0mto_concat\u001b[0m\u001b[1;33m)\u001b[0m \u001b[1;33m==\u001b[0m \u001b[1;36m1\u001b[0m\u001b[1;33m:\u001b[0m\u001b[1;33m\u001b[0m\u001b[0m\n",
      "\u001b[1;32mC:\\ProgramData\\Anaconda3\\lib\\site-packages\\pandas\\core\\internals.py\u001b[0m in \u001b[0;36mget_reindexed_values\u001b[1;34m(self, empty_dtype, upcasted_na)\u001b[0m\n\u001b[0;32m   5630\u001b[0m             \u001b[1;32mfor\u001b[0m \u001b[0max\u001b[0m\u001b[1;33m,\u001b[0m \u001b[0mindexer\u001b[0m \u001b[1;32min\u001b[0m \u001b[0mself\u001b[0m\u001b[1;33m.\u001b[0m\u001b[0mindexers\u001b[0m\u001b[1;33m.\u001b[0m\u001b[0mitems\u001b[0m\u001b[1;33m(\u001b[0m\u001b[1;33m)\u001b[0m\u001b[1;33m:\u001b[0m\u001b[1;33m\u001b[0m\u001b[0m\n\u001b[0;32m   5631\u001b[0m                 values = algos.take_nd(values, indexer, axis=ax,\n\u001b[1;32m-> 5632\u001b[1;33m                                        fill_value=fill_value)\n\u001b[0m\u001b[0;32m   5633\u001b[0m \u001b[1;33m\u001b[0m\u001b[0m\n\u001b[0;32m   5634\u001b[0m         \u001b[1;32mreturn\u001b[0m \u001b[0mvalues\u001b[0m\u001b[1;33m\u001b[0m\u001b[0m\n",
      "\u001b[1;31mKeyboardInterrupt\u001b[0m: "
     ]
    }
   ],
   "source": [
    "cohort2_dta = readin(onlyfiles_sorted[0:4],\"COHORT_2\")"
   ]
  },
  {
   "cell_type": "code",
   "execution_count": 180,
   "metadata": {},
   "outputs": [
    {
     "data": {
      "text/plain": [
       "(5695268, 335)"
      ]
     },
     "execution_count": 180,
     "metadata": {},
     "output_type": "execute_result"
    }
   ],
   "source": [
    "cohort2_dta.shape"
   ]
  },
  {
   "cell_type": "code",
   "execution_count": 181,
   "metadata": {
    "scrolled": false
   },
   "outputs": [
    {
     "data": {
      "text/html": [
       "<div>\n",
       "<style scoped>\n",
       "    .dataframe tbody tr th:only-of-type {\n",
       "        vertical-align: middle;\n",
       "    }\n",
       "\n",
       "    .dataframe tbody tr th {\n",
       "        vertical-align: top;\n",
       "    }\n",
       "\n",
       "    .dataframe thead th {\n",
       "        text-align: right;\n",
       "    }\n",
       "</style>\n",
       "<table border=\"1\" class=\"dataframe\">\n",
       "  <thead>\n",
       "    <tr style=\"text-align: right;\">\n",
       "      <th></th>\n",
       "      <th>abstinence_yn</th>\n",
       "      <th>adm_date_d</th>\n",
       "      <th>admit_source_1</th>\n",
       "      <th>admit_source_2</th>\n",
       "      <th>admit_source_3</th>\n",
       "      <th>admitting_prov_id</th>\n",
       "      <th>admitting_provider_department</th>\n",
       "      <th>age_at_last_encounter</th>\n",
       "      <th>alcohol_oz_per_wk</th>\n",
       "      <th>alcohol_src_c</th>\n",
       "      <th>...</th>\n",
       "      <th>tobacco_pak_per_dy</th>\n",
       "      <th>tobacco_used_years</th>\n",
       "      <th>tobacco_user</th>\n",
       "      <th>unknown_fam_hx_yn</th>\n",
       "      <th>visit_status_1</th>\n",
       "      <th>visit_status_2</th>\n",
       "      <th>visit_status_3</th>\n",
       "      <th>visit_status_4</th>\n",
       "      <th>years_education</th>\n",
       "      <th>zip_d</th>\n",
       "    </tr>\n",
       "  </thead>\n",
       "  <tbody>\n",
       "    <tr>\n",
       "      <th>0</th>\n",
       "      <td>NaN</td>\n",
       "      <td>NaN</td>\n",
       "      <td>NaN</td>\n",
       "      <td>NaN</td>\n",
       "      <td>NaN</td>\n",
       "      <td>NaN</td>\n",
       "      <td>NaN</td>\n",
       "      <td>90.0</td>\n",
       "      <td>NaN</td>\n",
       "      <td>NaN</td>\n",
       "      <td>...</td>\n",
       "      <td>NaN</td>\n",
       "      <td>NaN</td>\n",
       "      <td>NaN</td>\n",
       "      <td>NaN</td>\n",
       "      <td>NaN</td>\n",
       "      <td>NaN</td>\n",
       "      <td>NaN</td>\n",
       "      <td>NaN</td>\n",
       "      <td>NaN</td>\n",
       "      <td>NaN</td>\n",
       "    </tr>\n",
       "    <tr>\n",
       "      <th>1</th>\n",
       "      <td>NaN</td>\n",
       "      <td>NaN</td>\n",
       "      <td>NaN</td>\n",
       "      <td>NaN</td>\n",
       "      <td>NaN</td>\n",
       "      <td>NaN</td>\n",
       "      <td>NaN</td>\n",
       "      <td>63.0</td>\n",
       "      <td>NaN</td>\n",
       "      <td>NaN</td>\n",
       "      <td>...</td>\n",
       "      <td>NaN</td>\n",
       "      <td>NaN</td>\n",
       "      <td>NaN</td>\n",
       "      <td>NaN</td>\n",
       "      <td>NaN</td>\n",
       "      <td>NaN</td>\n",
       "      <td>NaN</td>\n",
       "      <td>NaN</td>\n",
       "      <td>NaN</td>\n",
       "      <td>NaN</td>\n",
       "    </tr>\n",
       "    <tr>\n",
       "      <th>2</th>\n",
       "      <td>NaN</td>\n",
       "      <td>NaN</td>\n",
       "      <td>NaN</td>\n",
       "      <td>NaN</td>\n",
       "      <td>NaN</td>\n",
       "      <td>NaN</td>\n",
       "      <td>NaN</td>\n",
       "      <td>65.0</td>\n",
       "      <td>NaN</td>\n",
       "      <td>NaN</td>\n",
       "      <td>...</td>\n",
       "      <td>NaN</td>\n",
       "      <td>NaN</td>\n",
       "      <td>NaN</td>\n",
       "      <td>NaN</td>\n",
       "      <td>NaN</td>\n",
       "      <td>NaN</td>\n",
       "      <td>NaN</td>\n",
       "      <td>NaN</td>\n",
       "      <td>NaN</td>\n",
       "      <td>NaN</td>\n",
       "    </tr>\n",
       "    <tr>\n",
       "      <th>3</th>\n",
       "      <td>NaN</td>\n",
       "      <td>NaN</td>\n",
       "      <td>NaN</td>\n",
       "      <td>NaN</td>\n",
       "      <td>NaN</td>\n",
       "      <td>NaN</td>\n",
       "      <td>NaN</td>\n",
       "      <td>47.0</td>\n",
       "      <td>NaN</td>\n",
       "      <td>NaN</td>\n",
       "      <td>...</td>\n",
       "      <td>NaN</td>\n",
       "      <td>NaN</td>\n",
       "      <td>NaN</td>\n",
       "      <td>NaN</td>\n",
       "      <td>NaN</td>\n",
       "      <td>NaN</td>\n",
       "      <td>NaN</td>\n",
       "      <td>NaN</td>\n",
       "      <td>NaN</td>\n",
       "      <td>NaN</td>\n",
       "    </tr>\n",
       "    <tr>\n",
       "      <th>4</th>\n",
       "      <td>NaN</td>\n",
       "      <td>NaN</td>\n",
       "      <td>NaN</td>\n",
       "      <td>NaN</td>\n",
       "      <td>NaN</td>\n",
       "      <td>NaN</td>\n",
       "      <td>NaN</td>\n",
       "      <td>52.0</td>\n",
       "      <td>NaN</td>\n",
       "      <td>NaN</td>\n",
       "      <td>...</td>\n",
       "      <td>NaN</td>\n",
       "      <td>NaN</td>\n",
       "      <td>NaN</td>\n",
       "      <td>NaN</td>\n",
       "      <td>NaN</td>\n",
       "      <td>NaN</td>\n",
       "      <td>NaN</td>\n",
       "      <td>NaN</td>\n",
       "      <td>NaN</td>\n",
       "      <td>NaN</td>\n",
       "    </tr>\n",
       "  </tbody>\n",
       "</table>\n",
       "<p>5 rows × 335 columns</p>\n",
       "</div>"
      ],
      "text/plain": [
       "  abstinence_yn adm_date_d admit_source_1 admit_source_2 admit_source_3  \\\n",
       "0           NaN        NaN            NaN            NaN            NaN   \n",
       "1           NaN        NaN            NaN            NaN            NaN   \n",
       "2           NaN        NaN            NaN            NaN            NaN   \n",
       "3           NaN        NaN            NaN            NaN            NaN   \n",
       "4           NaN        NaN            NaN            NaN            NaN   \n",
       "\n",
       "  admitting_prov_id admitting_provider_department  age_at_last_encounter  \\\n",
       "0               NaN                           NaN                   90.0   \n",
       "1               NaN                           NaN                   63.0   \n",
       "2               NaN                           NaN                   65.0   \n",
       "3               NaN                           NaN                   47.0   \n",
       "4               NaN                           NaN                   52.0   \n",
       "\n",
       "  alcohol_oz_per_wk alcohol_src_c  ...  tobacco_pak_per_dy tobacco_used_years  \\\n",
       "0               NaN           NaN  ...                 NaN                NaN   \n",
       "1               NaN           NaN  ...                 NaN                NaN   \n",
       "2               NaN           NaN  ...                 NaN                NaN   \n",
       "3               NaN           NaN  ...                 NaN                NaN   \n",
       "4               NaN           NaN  ...                 NaN                NaN   \n",
       "\n",
       "   tobacco_user unknown_fam_hx_yn visit_status_1 visit_status_2  \\\n",
       "0           NaN               NaN            NaN            NaN   \n",
       "1           NaN               NaN            NaN            NaN   \n",
       "2           NaN               NaN            NaN            NaN   \n",
       "3           NaN               NaN            NaN            NaN   \n",
       "4           NaN               NaN            NaN            NaN   \n",
       "\n",
       "  visit_status_3 visit_status_4 years_education zip_d  \n",
       "0            NaN            NaN             NaN   NaN  \n",
       "1            NaN            NaN             NaN   NaN  \n",
       "2            NaN            NaN             NaN   NaN  \n",
       "3            NaN            NaN             NaN   NaN  \n",
       "4            NaN            NaN             NaN   NaN  \n",
       "\n",
       "[5 rows x 335 columns]"
      ]
     },
     "execution_count": 181,
     "metadata": {},
     "output_type": "execute_result"
    }
   ],
   "source": [
    "cohort2_dta.head()"
   ]
  },
  {
   "cell_type": "markdown",
   "metadata": {},
   "source": [
    "# Write csvs"
   ]
  },
  {
   "cell_type": "code",
   "execution_count": 182,
   "metadata": {
    "scrolled": true
   },
   "outputs": [],
   "source": [
    "cohort1_dta.to_csv(join(mypath,\"merged_cohort1.csv\"),sep=\"|\")\n",
    "cohort2_dta.to_csv(join(mypath,\"merged_cohort2.csv\"),sep=\"|\")"
   ]
  },
  {
   "cell_type": "markdown",
   "metadata": {},
   "source": [
    "# Joining to rad notes  \n",
    "\n",
    "Note the links will be messy until we get clarification.\n",
    "\n",
    "Second string is \"encounter_id\""
   ]
  },
  {
   "cell_type": "code",
   "execution_count": 259,
   "metadata": {},
   "outputs": [],
   "source": [
    "# extract encounter_id from notes\n",
    "mypathnotes = \"Z:/FINAL OUTPUT v2/NOTES/\"\n",
    "onlyfilesnotes = [join(mypathnotes,f) for f in listdir(mypathnotes) if isfile(join(mypathnotes, f))]\n",
    "onlyfilesnotes_sorted = sorted(onlyfilesnotes, key=lambda x:(x!=\"cohort\", x))\n",
    "\n",
    "# cohort 1\n",
    "notes1 = pd.read_csv(onlyfilesnotes_sorted[0],index_col=None, header=0,sep=\",\")\n",
    "notes1.columns = [x.lower() for x in notes1.columns]\n",
    "\n",
    "# cohort 2\n",
    "# notes2 = pd.read_csv(onlyfilesnotes_sorted[0],index_col=None, header=0,sep=\"|\")\n",
    "# notes1.columns = [x.lower() for x in df.columns]"
   ]
  },
  {
   "cell_type": "code",
   "execution_count": 260,
   "metadata": {},
   "outputs": [
    {
     "data": {
      "text/html": [
       "<div>\n",
       "<style scoped>\n",
       "    .dataframe tbody tr th:only-of-type {\n",
       "        vertical-align: middle;\n",
       "    }\n",
       "\n",
       "    .dataframe tbody tr th {\n",
       "        vertical-align: top;\n",
       "    }\n",
       "\n",
       "    .dataframe thead th {\n",
       "        text-align: right;\n",
       "    }\n",
       "</style>\n",
       "<table border=\"1\" class=\"dataframe\">\n",
       "  <thead>\n",
       "    <tr style=\"text-align: right;\">\n",
       "      <th></th>\n",
       "      <th>unnamed: 0</th>\n",
       "      <th>scantype</th>\n",
       "      <th>scandate</th>\n",
       "      <th>clininfo</th>\n",
       "      <th>technique</th>\n",
       "      <th>comparison</th>\n",
       "      <th>findings</th>\n",
       "      <th>impressions</th>\n",
       "      <th>elecsig</th>\n",
       "      <th>patient</th>\n",
       "      <th>rawtext</th>\n",
       "    </tr>\n",
       "  </thead>\n",
       "  <tbody>\n",
       "    <tr>\n",
       "      <th>0</th>\n",
       "      <td>0</td>\n",
       "      <td>XR CHEST PA/LATERAL,</td>\n",
       "      <td>2015-06-22**]&gt; 8:24 AM</td>\n",
       "      <td>**NAME&lt;HHH&gt; **AGE&lt;in 50s&gt; years old. Reason: s...</td>\n",
       "      <td>XR CHEST PA/LATERAL</td>\n",
       "      <td>**DATE&lt;[**2015-06-14**]&gt; and previous.</td>\n",
       "      <td>Status post right lung biopsies. No significan...</td>\n",
       "      <td>No significant abnormality following multiple ...</td>\n",
       "      <td>**DATE&lt;[**2015-06-22**]&gt; 10:06 AM **NAME&lt;III J...</td>\n",
       "      <td>5253312_70864302</td>\n",
       "      <td>XR CHEST PA/LATERAL, **DATE&lt;[**2015-06-22**]&gt; ...</td>\n",
       "    </tr>\n",
       "    <tr>\n",
       "      <th>1</th>\n",
       "      <td>1</td>\n",
       "      <td>CT CHEST W</td>\n",
       "      <td>2015-02-06**]&gt; 12:25 PM</td>\n",
       "      <td>**AGE&lt;in 60s&gt;-year-old male with eye on the</td>\n",
       "      <td>Contrast enhanced chest CT.  120 mL of Omnipaq...</td>\n",
       "      <td>Outside CXR dated **DATE&lt;[**2015-01-11**]&gt;</td>\n",
       "      <td>LUNGS AND PLEURA: Mild subpleural reticulation...</td>\n",
       "      <td>Mild subpleural interstitial fibrosis of undet...</td>\n",
       "      <td>**DATE&lt;[**2015-02-06**]&gt; 2:26 PM **NAME&lt;CCC DD...</td>\n",
       "      <td>5049178_68355312</td>\n",
       "      <td>CT CHEST W  **DATE&lt;[**2015-02-06**]&gt; 12:25 PM\\...</td>\n",
       "    </tr>\n",
       "    <tr>\n",
       "      <th>2</th>\n",
       "      <td>2</td>\n",
       "      <td>XR CHEST PA/LATERAL,</td>\n",
       "      <td>2015-05-23**]&gt; 10:08 AM</td>\n",
       "      <td>**NAME&lt;FFF&gt; **AGE&lt;in 60s&gt; years old. One month...</td>\n",
       "      <td>XR CHEST PA/LATERAL</td>\n",
       "      <td>**DATE&lt;[**2015-05-02**]&gt;.</td>\n",
       "      <td>Elevation of the left hemidiaphragm unchanged....</td>\n",
       "      <td>Severe interstitial abnormality without visibl...</td>\n",
       "      <td>**DATE&lt;[**2015-05-23**]&gt; 10:42 AM [**Doctor Fi...</td>\n",
       "      <td>5861184_69548263</td>\n",
       "      <td>XR CHEST PA/LATERAL, **DATE&lt;[**2015-05-23**]&gt; ...</td>\n",
       "    </tr>\n",
       "    <tr>\n",
       "      <th>3</th>\n",
       "      <td>3</td>\n",
       "      <td>XR CHEST PA/LATERAL,</td>\n",
       "      <td>2015-06-24**]&gt; 12:40 PM</td>\n",
       "      <td>**NAME&lt;DDD&gt; **AGE&lt;in 50s&gt; years old. Dyspnea, ...</td>\n",
       "      <td>XR CHEST PA/LATERAL</td>\n",
       "      <td>**DATE&lt;[**2014-09-03**]&gt; and previous</td>\n",
       "      <td>Diffuse fine reticular opacities throughout bo...</td>\n",
       "      <td>Diffuse groundglass opacities consistent with ...</td>\n",
       "      <td>**DATE&lt;[**2015-06-24**]&gt; 2:22 PM **NAME&lt;EEE FF...</td>\n",
       "      <td>5630079_69208276</td>\n",
       "      <td>XR CHEST PA/LATERAL, **DATE&lt;[**2015-06-24**]&gt; ...</td>\n",
       "    </tr>\n",
       "    <tr>\n",
       "      <th>4</th>\n",
       "      <td>4</td>\n",
       "      <td>These outside images were loaded for compariso...</td>\n",
       "      <td>NaN</td>\n",
       "      <td>NaN</td>\n",
       "      <td>NaN</td>\n",
       "      <td>NaN</td>\n",
       "      <td>NaN</td>\n",
       "      <td>NaN</td>\n",
       "      <td>**DATE&lt;[**2018-04-03**]&gt; 8:07 AM Canned Report</td>\n",
       "      <td>8425699_110461983</td>\n",
       "      <td>These outside images were loaded for compariso...</td>\n",
       "    </tr>\n",
       "  </tbody>\n",
       "</table>\n",
       "</div>"
      ],
      "text/plain": [
       "   unnamed: 0                                           scantype  \\\n",
       "0           0                               XR CHEST PA/LATERAL,   \n",
       "1           1                                         CT CHEST W   \n",
       "2           2                               XR CHEST PA/LATERAL,   \n",
       "3           3                               XR CHEST PA/LATERAL,   \n",
       "4           4  These outside images were loaded for compariso...   \n",
       "\n",
       "                  scandate                                           clininfo  \\\n",
       "0   2015-06-22**]> 8:24 AM  **NAME<HHH> **AGE<in 50s> years old. Reason: s...   \n",
       "1  2015-02-06**]> 12:25 PM        **AGE<in 60s>-year-old male with eye on the   \n",
       "2  2015-05-23**]> 10:08 AM  **NAME<FFF> **AGE<in 60s> years old. One month...   \n",
       "3  2015-06-24**]> 12:40 PM  **NAME<DDD> **AGE<in 50s> years old. Dyspnea, ...   \n",
       "4                      NaN                                                NaN   \n",
       "\n",
       "                                           technique  \\\n",
       "0                                XR CHEST PA/LATERAL   \n",
       "1  Contrast enhanced chest CT.  120 mL of Omnipaq...   \n",
       "2                                XR CHEST PA/LATERAL   \n",
       "3                                XR CHEST PA/LATERAL   \n",
       "4                                                NaN   \n",
       "\n",
       "                                   comparison  \\\n",
       "0      **DATE<[**2015-06-14**]> and previous.   \n",
       "1  Outside CXR dated **DATE<[**2015-01-11**]>   \n",
       "2                   **DATE<[**2015-05-02**]>.   \n",
       "3       **DATE<[**2014-09-03**]> and previous   \n",
       "4                                         NaN   \n",
       "\n",
       "                                            findings  \\\n",
       "0  Status post right lung biopsies. No significan...   \n",
       "1  LUNGS AND PLEURA: Mild subpleural reticulation...   \n",
       "2  Elevation of the left hemidiaphragm unchanged....   \n",
       "3  Diffuse fine reticular opacities throughout bo...   \n",
       "4                                                NaN   \n",
       "\n",
       "                                         impressions  \\\n",
       "0  No significant abnormality following multiple ...   \n",
       "1  Mild subpleural interstitial fibrosis of undet...   \n",
       "2  Severe interstitial abnormality without visibl...   \n",
       "3  Diffuse groundglass opacities consistent with ...   \n",
       "4                                                NaN   \n",
       "\n",
       "                                             elecsig             patient  \\\n",
       "0  **DATE<[**2015-06-22**]> 10:06 AM **NAME<III J...    5253312_70864302   \n",
       "1  **DATE<[**2015-02-06**]> 2:26 PM **NAME<CCC DD...    5049178_68355312   \n",
       "2  **DATE<[**2015-05-23**]> 10:42 AM [**Doctor Fi...    5861184_69548263   \n",
       "3  **DATE<[**2015-06-24**]> 2:22 PM **NAME<EEE FF...    5630079_69208276   \n",
       "4     **DATE<[**2018-04-03**]> 8:07 AM Canned Report   8425699_110461983   \n",
       "\n",
       "                                             rawtext  \n",
       "0  XR CHEST PA/LATERAL, **DATE<[**2015-06-22**]> ...  \n",
       "1  CT CHEST W  **DATE<[**2015-02-06**]> 12:25 PM\\...  \n",
       "2  XR CHEST PA/LATERAL, **DATE<[**2015-05-23**]> ...  \n",
       "3  XR CHEST PA/LATERAL, **DATE<[**2015-06-24**]> ...  \n",
       "4  These outside images were loaded for compariso...  "
      ]
     },
     "execution_count": 260,
     "metadata": {},
     "output_type": "execute_result"
    }
   ],
   "source": [
    "notes1.head()"
   ]
  },
  {
   "cell_type": "code",
   "execution_count": 264,
   "metadata": {},
   "outputs": [],
   "source": [
    "# split 1\n",
    "notes1[['patient1','patient2']] = notes1['patient'].str.split('_',expand=True)\n",
    "\n",
    "# split2\n",
    "# notes2[['patient1','patient2']] = notes2['patient'].str.split('_',expand=True)"
   ]
  },
  {
   "cell_type": "code",
   "execution_count": 385,
   "metadata": {},
   "outputs": [],
   "source": [
    "notes1_patient = notes1.patient\n",
    "notes1_patient.to_csv(join(mypath,\"/notes_radiology_edited.csv\"),sep=\"|\")"
   ]
  },
  {
   "cell_type": "markdown",
   "metadata": {},
   "source": [
    "### Now join notes for cohort1"
   ]
  },
  {
   "cell_type": "code",
   "execution_count": null,
   "metadata": {},
   "outputs": [],
   "source": [
    "cohort1_dta_notes = pd.merge(cohort1_dta, notes1, on = 'patient_id',how=\"left\")"
   ]
  },
  {
   "cell_type": "code",
   "execution_count": 375,
   "metadata": {
    "scrolled": true
   },
   "outputs": [
    {
     "data": {
      "text/html": [
       "<div>\n",
       "<style scoped>\n",
       "    .dataframe tbody tr th:only-of-type {\n",
       "        vertical-align: middle;\n",
       "    }\n",
       "\n",
       "    .dataframe tbody tr th {\n",
       "        vertical-align: top;\n",
       "    }\n",
       "\n",
       "    .dataframe thead th {\n",
       "        text-align: right;\n",
       "    }\n",
       "</style>\n",
       "<table border=\"1\" class=\"dataframe\">\n",
       "  <thead>\n",
       "    <tr style=\"text-align: right;\">\n",
       "      <th></th>\n",
       "      <th>patient_id</th>\n",
       "      <th>encounter_id_radiology</th>\n",
       "    </tr>\n",
       "  </thead>\n",
       "  <tbody>\n",
       "    <tr>\n",
       "      <th>0</th>\n",
       "      <td>32124</td>\n",
       "      <td>NaN</td>\n",
       "    </tr>\n",
       "    <tr>\n",
       "      <th>1</th>\n",
       "      <td>32124</td>\n",
       "      <td>NaN</td>\n",
       "    </tr>\n",
       "    <tr>\n",
       "      <th>2</th>\n",
       "      <td>32124</td>\n",
       "      <td>NaN</td>\n",
       "    </tr>\n",
       "    <tr>\n",
       "      <th>3</th>\n",
       "      <td>32124</td>\n",
       "      <td>NaN</td>\n",
       "    </tr>\n",
       "    <tr>\n",
       "      <th>4</th>\n",
       "      <td>74912</td>\n",
       "      <td>NaN</td>\n",
       "    </tr>\n",
       "    <tr>\n",
       "      <th>5</th>\n",
       "      <td>74912</td>\n",
       "      <td>NaN</td>\n",
       "    </tr>\n",
       "    <tr>\n",
       "      <th>6</th>\n",
       "      <td>74912</td>\n",
       "      <td>NaN</td>\n",
       "    </tr>\n",
       "    <tr>\n",
       "      <th>7</th>\n",
       "      <td>74912</td>\n",
       "      <td>NaN</td>\n",
       "    </tr>\n",
       "    <tr>\n",
       "      <th>8</th>\n",
       "      <td>74912</td>\n",
       "      <td>NaN</td>\n",
       "    </tr>\n",
       "    <tr>\n",
       "      <th>9</th>\n",
       "      <td>74912</td>\n",
       "      <td>NaN</td>\n",
       "    </tr>\n",
       "    <tr>\n",
       "      <th>10</th>\n",
       "      <td>74912</td>\n",
       "      <td>NaN</td>\n",
       "    </tr>\n",
       "    <tr>\n",
       "      <th>11</th>\n",
       "      <td>81545</td>\n",
       "      <td>NaN</td>\n",
       "    </tr>\n",
       "    <tr>\n",
       "      <th>12</th>\n",
       "      <td>81545</td>\n",
       "      <td>NaN</td>\n",
       "    </tr>\n",
       "    <tr>\n",
       "      <th>13</th>\n",
       "      <td>81545</td>\n",
       "      <td>NaN</td>\n",
       "    </tr>\n",
       "    <tr>\n",
       "      <th>14</th>\n",
       "      <td>93110</td>\n",
       "      <td>NaN</td>\n",
       "    </tr>\n",
       "    <tr>\n",
       "      <th>15</th>\n",
       "      <td>93110</td>\n",
       "      <td>NaN</td>\n",
       "    </tr>\n",
       "    <tr>\n",
       "      <th>16</th>\n",
       "      <td>93110</td>\n",
       "      <td>NaN</td>\n",
       "    </tr>\n",
       "    <tr>\n",
       "      <th>17</th>\n",
       "      <td>93110</td>\n",
       "      <td>NaN</td>\n",
       "    </tr>\n",
       "    <tr>\n",
       "      <th>18</th>\n",
       "      <td>118647</td>\n",
       "      <td>NaN</td>\n",
       "    </tr>\n",
       "    <tr>\n",
       "      <th>19</th>\n",
       "      <td>118647</td>\n",
       "      <td>NaN</td>\n",
       "    </tr>\n",
       "    <tr>\n",
       "      <th>20</th>\n",
       "      <td>118647</td>\n",
       "      <td>NaN</td>\n",
       "    </tr>\n",
       "    <tr>\n",
       "      <th>21</th>\n",
       "      <td>122487</td>\n",
       "      <td>NaN</td>\n",
       "    </tr>\n",
       "    <tr>\n",
       "      <th>22</th>\n",
       "      <td>122522</td>\n",
       "      <td>NaN</td>\n",
       "    </tr>\n",
       "    <tr>\n",
       "      <th>23</th>\n",
       "      <td>122522</td>\n",
       "      <td>NaN</td>\n",
       "    </tr>\n",
       "    <tr>\n",
       "      <th>24</th>\n",
       "      <td>122522</td>\n",
       "      <td>NaN</td>\n",
       "    </tr>\n",
       "    <tr>\n",
       "      <th>25</th>\n",
       "      <td>122522</td>\n",
       "      <td>NaN</td>\n",
       "    </tr>\n",
       "    <tr>\n",
       "      <th>26</th>\n",
       "      <td>136921</td>\n",
       "      <td>NaN</td>\n",
       "    </tr>\n",
       "    <tr>\n",
       "      <th>27</th>\n",
       "      <td>136921</td>\n",
       "      <td>NaN</td>\n",
       "    </tr>\n",
       "    <tr>\n",
       "      <th>28</th>\n",
       "      <td>136921</td>\n",
       "      <td>NaN</td>\n",
       "    </tr>\n",
       "    <tr>\n",
       "      <th>29</th>\n",
       "      <td>136921</td>\n",
       "      <td>NaN</td>\n",
       "    </tr>\n",
       "    <tr>\n",
       "      <th>...</th>\n",
       "      <td>...</td>\n",
       "      <td>...</td>\n",
       "    </tr>\n",
       "    <tr>\n",
       "      <th>83847</th>\n",
       "      <td>2047068</td>\n",
       "      <td>NaN</td>\n",
       "    </tr>\n",
       "    <tr>\n",
       "      <th>83848</th>\n",
       "      <td>2047068</td>\n",
       "      <td>NaN</td>\n",
       "    </tr>\n",
       "    <tr>\n",
       "      <th>83849</th>\n",
       "      <td>2047068</td>\n",
       "      <td>NaN</td>\n",
       "    </tr>\n",
       "    <tr>\n",
       "      <th>83850</th>\n",
       "      <td>2047068</td>\n",
       "      <td>NaN</td>\n",
       "    </tr>\n",
       "    <tr>\n",
       "      <th>83851</th>\n",
       "      <td>2122393</td>\n",
       "      <td>NaN</td>\n",
       "    </tr>\n",
       "    <tr>\n",
       "      <th>83852</th>\n",
       "      <td>2122393</td>\n",
       "      <td>NaN</td>\n",
       "    </tr>\n",
       "    <tr>\n",
       "      <th>83853</th>\n",
       "      <td>2122393</td>\n",
       "      <td>NaN</td>\n",
       "    </tr>\n",
       "    <tr>\n",
       "      <th>83854</th>\n",
       "      <td>2122393</td>\n",
       "      <td>NaN</td>\n",
       "    </tr>\n",
       "    <tr>\n",
       "      <th>83855</th>\n",
       "      <td>2122393</td>\n",
       "      <td>NaN</td>\n",
       "    </tr>\n",
       "    <tr>\n",
       "      <th>83856</th>\n",
       "      <td>2122393</td>\n",
       "      <td>NaN</td>\n",
       "    </tr>\n",
       "    <tr>\n",
       "      <th>83857</th>\n",
       "      <td>2122393</td>\n",
       "      <td>NaN</td>\n",
       "    </tr>\n",
       "    <tr>\n",
       "      <th>83858</th>\n",
       "      <td>2122393</td>\n",
       "      <td>NaN</td>\n",
       "    </tr>\n",
       "    <tr>\n",
       "      <th>83859</th>\n",
       "      <td>2122393</td>\n",
       "      <td>NaN</td>\n",
       "    </tr>\n",
       "    <tr>\n",
       "      <th>83860</th>\n",
       "      <td>2122393</td>\n",
       "      <td>NaN</td>\n",
       "    </tr>\n",
       "    <tr>\n",
       "      <th>83861</th>\n",
       "      <td>2122393</td>\n",
       "      <td>NaN</td>\n",
       "    </tr>\n",
       "    <tr>\n",
       "      <th>83862</th>\n",
       "      <td>2122393</td>\n",
       "      <td>NaN</td>\n",
       "    </tr>\n",
       "    <tr>\n",
       "      <th>83863</th>\n",
       "      <td>2122393</td>\n",
       "      <td>NaN</td>\n",
       "    </tr>\n",
       "    <tr>\n",
       "      <th>83864</th>\n",
       "      <td>2122393</td>\n",
       "      <td>NaN</td>\n",
       "    </tr>\n",
       "    <tr>\n",
       "      <th>83865</th>\n",
       "      <td>2122393</td>\n",
       "      <td>NaN</td>\n",
       "    </tr>\n",
       "    <tr>\n",
       "      <th>83866</th>\n",
       "      <td>2122393</td>\n",
       "      <td>NaN</td>\n",
       "    </tr>\n",
       "    <tr>\n",
       "      <th>83867</th>\n",
       "      <td>2122393</td>\n",
       "      <td>NaN</td>\n",
       "    </tr>\n",
       "    <tr>\n",
       "      <th>83868</th>\n",
       "      <td>2122393</td>\n",
       "      <td>NaN</td>\n",
       "    </tr>\n",
       "    <tr>\n",
       "      <th>83869</th>\n",
       "      <td>2122393</td>\n",
       "      <td>NaN</td>\n",
       "    </tr>\n",
       "    <tr>\n",
       "      <th>83870</th>\n",
       "      <td>2122393</td>\n",
       "      <td>NaN</td>\n",
       "    </tr>\n",
       "    <tr>\n",
       "      <th>83871</th>\n",
       "      <td>2122393</td>\n",
       "      <td>NaN</td>\n",
       "    </tr>\n",
       "    <tr>\n",
       "      <th>83872</th>\n",
       "      <td>2122393</td>\n",
       "      <td>NaN</td>\n",
       "    </tr>\n",
       "    <tr>\n",
       "      <th>83873</th>\n",
       "      <td>2122393</td>\n",
       "      <td>NaN</td>\n",
       "    </tr>\n",
       "    <tr>\n",
       "      <th>83874</th>\n",
       "      <td>2122393</td>\n",
       "      <td>NaN</td>\n",
       "    </tr>\n",
       "    <tr>\n",
       "      <th>83875</th>\n",
       "      <td>2122393</td>\n",
       "      <td>NaN</td>\n",
       "    </tr>\n",
       "    <tr>\n",
       "      <th>83876</th>\n",
       "      <td>2122393</td>\n",
       "      <td>NaN</td>\n",
       "    </tr>\n",
       "  </tbody>\n",
       "</table>\n",
       "<p>83877 rows × 2 columns</p>\n",
       "</div>"
      ],
      "text/plain": [
       "      patient_id  encounter_id_radiology\n",
       "0          32124                     NaN\n",
       "1          32124                     NaN\n",
       "2          32124                     NaN\n",
       "3          32124                     NaN\n",
       "4          74912                     NaN\n",
       "5          74912                     NaN\n",
       "6          74912                     NaN\n",
       "7          74912                     NaN\n",
       "8          74912                     NaN\n",
       "9          74912                     NaN\n",
       "10         74912                     NaN\n",
       "11         81545                     NaN\n",
       "12         81545                     NaN\n",
       "13         81545                     NaN\n",
       "14         93110                     NaN\n",
       "15         93110                     NaN\n",
       "16         93110                     NaN\n",
       "17         93110                     NaN\n",
       "18        118647                     NaN\n",
       "19        118647                     NaN\n",
       "20        118647                     NaN\n",
       "21        122487                     NaN\n",
       "22        122522                     NaN\n",
       "23        122522                     NaN\n",
       "24        122522                     NaN\n",
       "25        122522                     NaN\n",
       "26        136921                     NaN\n",
       "27        136921                     NaN\n",
       "28        136921                     NaN\n",
       "29        136921                     NaN\n",
       "...          ...                     ...\n",
       "83847    2047068                     NaN\n",
       "83848    2047068                     NaN\n",
       "83849    2047068                     NaN\n",
       "83850    2047068                     NaN\n",
       "83851    2122393                     NaN\n",
       "83852    2122393                     NaN\n",
       "83853    2122393                     NaN\n",
       "83854    2122393                     NaN\n",
       "83855    2122393                     NaN\n",
       "83856    2122393                     NaN\n",
       "83857    2122393                     NaN\n",
       "83858    2122393                     NaN\n",
       "83859    2122393                     NaN\n",
       "83860    2122393                     NaN\n",
       "83861    2122393                     NaN\n",
       "83862    2122393                     NaN\n",
       "83863    2122393                     NaN\n",
       "83864    2122393                     NaN\n",
       "83865    2122393                     NaN\n",
       "83866    2122393                     NaN\n",
       "83867    2122393                     NaN\n",
       "83868    2122393                     NaN\n",
       "83869    2122393                     NaN\n",
       "83870    2122393                     NaN\n",
       "83871    2122393                     NaN\n",
       "83872    2122393                     NaN\n",
       "83873    2122393                     NaN\n",
       "83874    2122393                     NaN\n",
       "83875    2122393                     NaN\n",
       "83876    2122393                     NaN\n",
       "\n",
       "[83877 rows x 2 columns]"
      ]
     },
     "execution_count": 375,
     "metadata": {},
     "output_type": "execute_result"
    }
   ],
   "source": [
    "cohort1_dta[['patient_id','encounter_id_radiology']]"
   ]
  },
  {
   "cell_type": "code",
   "execution_count": 376,
   "metadata": {},
   "outputs": [
    {
     "data": {
      "text/html": [
       "<div>\n",
       "<style scoped>\n",
       "    .dataframe tbody tr th:only-of-type {\n",
       "        vertical-align: middle;\n",
       "    }\n",
       "\n",
       "    .dataframe tbody tr th {\n",
       "        vertical-align: top;\n",
       "    }\n",
       "\n",
       "    .dataframe thead th {\n",
       "        text-align: right;\n",
       "    }\n",
       "</style>\n",
       "<table border=\"1\" class=\"dataframe\">\n",
       "  <thead>\n",
       "    <tr style=\"text-align: right;\">\n",
       "      <th></th>\n",
       "      <th>patient_id</th>\n",
       "      <th>age_at_last_encounter_patient</th>\n",
       "      <th>gender_patient</th>\n",
       "      <th>race_patient</th>\n",
       "      <th>ethnicity_patient</th>\n",
       "      <th>date_of_death_d_patient</th>\n",
       "      <th>encounter_id_encounter</th>\n",
       "      <th>enc_eio_encounter</th>\n",
       "      <th>visit_status_1_encounter</th>\n",
       "      <th>visit_status_2_encounter</th>\n",
       "      <th>...</th>\n",
       "      <th>dx_12_dx_info</th>\n",
       "      <th>dx_desc_12_dx_info</th>\n",
       "      <th>dx12_rank_dx_info</th>\n",
       "      <th>dx_13_dx_info</th>\n",
       "      <th>dx_desc_13_dx_info</th>\n",
       "      <th>dx13_rank_dx_info</th>\n",
       "      <th>encounter_id_radiology</th>\n",
       "      <th>order_proc_id_deid_radiology</th>\n",
       "      <th>ordering_date_off_radiology</th>\n",
       "      <th>exam_type_radiology</th>\n",
       "    </tr>\n",
       "  </thead>\n",
       "  <tbody>\n",
       "  </tbody>\n",
       "</table>\n",
       "<p>0 rows × 119 columns</p>\n",
       "</div>"
      ],
      "text/plain": [
       "Empty DataFrame\n",
       "Columns: [patient_id, age_at_last_encounter_patient, gender_patient, race_patient, ethnicity_patient, date_of_death_d_patient, encounter_id_encounter, enc_eio_encounter, visit_status_1_encounter, visit_status_2_encounter, visit_status_3_encounter, visit_status_4_encounter, adm_date_d_encounter, disc_date_d_encounter, start_date_d_encounter, end_date_d_encounter, admit_source_1_encounter, admit_source_2_encounter, admit_source_3_encounter, disch_disp_1_encounter, disch_disp_2_encounter, disch_disp_3_encounter, zip_d_encounter, enc_fin_class_encounter, encounter_id_encounter_provider, admitting_prov_id_encounter_provider, admitting_provider_department_encounter_provider, attnd_prov_id_encounter_provider, attending_department_encounter_provider, referring_prov_id_encounter_provider, referring_department_encounter_provider, contact_date_off_encounter_social, is_tobacco_user_encounter_social, tobacco_pak_per_dy_encounter_social, tobacco_used_years_encounter_social, tobacco_comment_encounter_social, smoking_quit_date_off_encounter_social, cigarettes_yn_encounter_social, pipes_yn_encounter_social, cigars_yn_encounter_social, snuff_yn_encounter_social, chew_yn_encounter_social, is_alcohol_user_encounter_social, alcohol_oz_per_wk_encounter_social, is_ill_drug_user_encounter_social, iv_drug_user_yn_encounter_social, illicit_drug_freq_encounter_social, is_sexually_actv_encounter_social, female_partner_yn_encounter_social, male_partner_yn_encounter_social, condom_yn_encounter_social, pill_yn_encounter_social, diaphragm_yn_encounter_social, iud_yn_encounter_social, surgical_yn_encounter_social, spermicide_yn_encounter_social, implant_yn_encounter_social, rhythm_yn_encounter_social, injection_yn_encounter_social, sponge_yn_encounter_social, inserts_yn_encounter_social, abstinence_yn_encounter_social, years_education_encounter_social, tob_src_c_encounter_social, alcohol_src_c_encounter_social, sex_src_c_encounter_social, alcohol_use_c_encounter_social, ill_drug_user_c_encounter_social, sexually_active_c_encounter_social, tobacco_user_encounter_social, smokeless_tob_use_c_encounter_social, smokeless_quit_date_off_encounter_social, smoking_tob_use_encounter_social, unknown_fam_hx_yn_encounter_social, smoking_start_date_off_encounter_social, encounter_id_dx_info, dx_1_dx_info, dx_desc_1_dx_info, dx1_rank_dx_info, dx_2_dx_info, dx_desc_2_dx_info, dx2_rank_dx_info, dx_3_dx_info, dx_desc_3_dx_info, dx3_rank_dx_info, dx_4_dx_info, dx_desc_4_dx_info, dx4_rank_dx_info, dx_5_dx_info, dx_desc_5_dx_info, dx5_rank_dx_info, dx_6_dx_info, dx_desc_6_dx_info, dx6_rank_dx_info, dx_7_dx_info, dx_desc_7_dx_info, dx7_rank_dx_info, dx_8_dx_info, dx_desc_8_dx_info, dx8_rank_dx_info, ...]\n",
       "Index: []\n",
       "\n",
       "[0 rows x 119 columns]"
      ]
     },
     "execution_count": 376,
     "metadata": {},
     "output_type": "execute_result"
    }
   ],
   "source": [
    "cohort1_dta[cohort1_dta.encounter_id_radiology.notnull()]"
   ]
  },
  {
   "cell_type": "code",
   "execution_count": null,
   "metadata": {},
   "outputs": [],
   "source": []
  }
 ],
 "metadata": {
  "kernelspec": {
   "display_name": "Python 3",
   "language": "python",
   "name": "python3"
  },
  "language_info": {
   "codemirror_mode": {
    "name": "ipython",
    "version": 3
   },
   "file_extension": ".py",
   "mimetype": "text/x-python",
   "name": "python",
   "nbconvert_exporter": "python",
   "pygments_lexer": "ipython3",
   "version": "3.6.4"
  }
 },
 "nbformat": 4,
 "nbformat_minor": 2
}
