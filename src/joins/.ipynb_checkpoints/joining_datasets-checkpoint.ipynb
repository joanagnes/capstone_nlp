{
 "cells": [
  {
   "cell_type": "markdown",
   "metadata": {},
   "source": [
    "# JOINS \n",
    "\n",
    "This jupyter is to join the datasets with their \n",
    "one to many notes files."
   ]
  },
  {
   "cell_type": "code",
   "execution_count": 11,
   "metadata": {
    "scrolled": true
   },
   "outputs": [],
   "source": [
    "import string\n",
    "import bz2\n",
    "from os import listdir\n",
    "from os.path import isfile, join\n",
    "import matplotlib.pyplot as plt\n",
    "import numpy as np\n",
    "import pandas as pd\n",
    "import seaborn as sns\n",
    "import datetime\n",
    "import nltk.corpus  \n",
    "import time\n",
    "import math\n",
    "import re\n",
    "import spacy\n",
    "from nltk.text import Text\n",
    "from nltk.corpus import stopwords\n",
    "from itertools import combinations\n",
    "from textblob import TextBlob\n",
    "from textblob.sentiments import NaiveBayesAnalyzer\n",
    "from textblob import TextBlob\n",
    "from nltk.stem.wordnet import WordNetLemmatizer\n",
    "# from keras.preprocessing import text, sequence\n",
    "# from keras.utils import to_categorical\n",
    "# from keras.layers import Bidirectional, GlobalMaxPool1D,GlobalMaxPool2D, GlobalMaxPool3D,Conv1D, Dense, Input, LSTM, Embedding, Dropout, Activation\n",
    "# from keras.models import Model, Sequential\n",
    "# from keras.callbacks import EarlyStopping, ModelCheckpoint\n",
    "%matplotlib inline\n",
    "plt.style.use('fivethirtyeight')\n"
   ]
  },
  {
   "cell_type": "code",
   "execution_count": 8,
   "metadata": {},
   "outputs": [
    {
     "data": {
      "text/plain": [
       "'C:\\\\Users\\\\t.cri.kcheung\\\\capstone_nlp\\\\src\\\\joins'"
      ]
     },
     "execution_count": 8,
     "metadata": {},
     "output_type": "execute_result"
    }
   ],
   "source": [
    "os.getcwd()"
   ]
  },
  {
   "cell_type": "code",
   "execution_count": 14,
   "metadata": {},
   "outputs": [],
   "source": [
    "# get all files in subfolder\n",
    "mypath = \"Z:/FINAL OUTPUT v2/\"\n",
    "onlyfiles = [join(mypath,f) for f in listdir(mypath) if isfile(join(mypath, f))]"
   ]
  },
  {
   "cell_type": "code",
   "execution_count": 15,
   "metadata": {
    "scrolled": true
   },
   "outputs": [
    {
     "data": {
      "text/plain": [
       "['Z:/FINAL OUTPUT v2/07_ENCOUNTER_SOCIAL_HX_COHORT_1.csv',\n",
       " 'Z:/FINAL OUTPUT v2/01_PATIENT_COHORT_1.csv',\n",
       " 'Z:/FINAL OUTPUT v2/09_DX_INFO_COHORT_1.csv',\n",
       " 'Z:/FINAL OUTPUT v2/05_ENCOUNTER_PROVIDER_COHORT_1.csv',\n",
       " 'Z:/FINAL OUTPUT v2/04_ENCOUNTER_COHORT_2.csv',\n",
       " 'Z:/FINAL OUTPUT v2/06_ENCOUNTER_PROVIDER_COHORT_2.csv',\n",
       " 'Z:/FINAL OUTPUT v2/02_PATIENT_COHORT_2.csv',\n",
       " 'Z:/FINAL OUTPUT v2/03_ENCOUNTER_COHORT_1.csv',\n",
       " 'Z:/FINAL OUTPUT v2/11_COHORT_1_RADIOLOGY.csv',\n",
       " 'Z:/FINAL OUTPUT v2/08_ENCOUNTER_SOCIAL_HX_COHORT_2.csv',\n",
       " 'Z:/FINAL OUTPUT v2/10_DX_INFO_COHORT_2.csv',\n",
       " 'Z:/FINAL OUTPUT v2/12_COHORT_2_RADIOLOGY.csv']"
      ]
     },
     "execution_count": 15,
     "metadata": {},
     "output_type": "execute_result"
    }
   ],
   "source": [
    "onlyfiles"
   ]
  },
  {
   "cell_type": "markdown",
   "metadata": {},
   "source": [
    "# Modular"
   ]
  },
  {
   "cell_type": "code",
   "execution_count": 172,
   "metadata": {},
   "outputs": [],
   "source": [
    "onlyfiles_sorted = sorted(onlyfiles, key=lambda x:(x!=\"PATIENT_COHORT\", x))"
   ]
  },
  {
   "cell_type": "code",
   "execution_count": 155,
   "metadata": {},
   "outputs": [],
   "source": [
    "frame = pd.DataFrame()\n",
    "list_ = []\n",
    "\n",
    "def readin(listoffiles,like):\n",
    "    for f in listoffiles:\n",
    "        if f.find(like) == -1:\n",
    "            print(\"skipped:\",f)\n",
    "        else:\n",
    "            print(\"processed\",f)\n",
    "            df = pd.read_csv(f,index_col=None, header=0,sep=\"|\")\n",
    "            df.columns = [x.lower() for x in df.columns]\n",
    "            list_.append(df)\n",
    "#     print(list_)\n",
    "    frame = pd.concat(list_,join=\"outer\",ignore_index=True)\n",
    "    return(frame)"
   ]
  },
  {
   "cell_type": "code",
   "execution_count": 156,
   "metadata": {
    "scrolled": true
   },
   "outputs": [
    {
     "name": "stdout",
     "output_type": "stream",
     "text": [
      "processed Z:/FINAL OUTPUT v2/07_ENCOUNTER_SOCIAL_HX_COHORT_1.csv\n",
      "processed Z:/FINAL OUTPUT v2/01_PATIENT_COHORT_1.csv\n",
      "processed Z:/FINAL OUTPUT v2/09_DX_INFO_COHORT_1.csv\n",
      "processed Z:/FINAL OUTPUT v2/05_ENCOUNTER_PROVIDER_COHORT_1.csv\n",
      "skipped: Z:/FINAL OUTPUT v2/04_ENCOUNTER_COHORT_2.csv\n",
      "skipped: Z:/FINAL OUTPUT v2/06_ENCOUNTER_PROVIDER_COHORT_2.csv\n",
      "skipped: Z:/FINAL OUTPUT v2/02_PATIENT_COHORT_2.csv\n",
      "processed Z:/FINAL OUTPUT v2/03_ENCOUNTER_COHORT_1.csv\n",
      "processed Z:/FINAL OUTPUT v2/11_COHORT_1_RADIOLOGY.csv\n",
      "skipped: Z:/FINAL OUTPUT v2/08_ENCOUNTER_SOCIAL_HX_COHORT_2.csv\n",
      "skipped: Z:/FINAL OUTPUT v2/10_DX_INFO_COHORT_2.csv\n",
      "skipped: Z:/FINAL OUTPUT v2/12_COHORT_2_RADIOLOGY.csv\n"
     ]
    }
   ],
   "source": [
    "cohort1_dta = readin(onlyfiles_sorted,\"COHORT_1\")"
   ]
  },
  {
   "cell_type": "code",
   "execution_count": 157,
   "metadata": {
    "scrolled": true
   },
   "outputs": [
    {
     "data": {
      "text/html": [
       "<div>\n",
       "<style scoped>\n",
       "    .dataframe tbody tr th:only-of-type {\n",
       "        vertical-align: middle;\n",
       "    }\n",
       "\n",
       "    .dataframe tbody tr th {\n",
       "        vertical-align: top;\n",
       "    }\n",
       "\n",
       "    .dataframe thead th {\n",
       "        text-align: right;\n",
       "    }\n",
       "</style>\n",
       "<table border=\"1\" class=\"dataframe\">\n",
       "  <thead>\n",
       "    <tr style=\"text-align: right;\">\n",
       "      <th></th>\n",
       "      <th>abstinence_yn</th>\n",
       "      <th>adm_date_d</th>\n",
       "      <th>admit_source_1</th>\n",
       "      <th>admit_source_2</th>\n",
       "      <th>admit_source_3</th>\n",
       "      <th>admitting_prov_id</th>\n",
       "      <th>admitting_provider_department</th>\n",
       "      <th>age_at_last_encounter</th>\n",
       "      <th>alcohol_oz_per_wk</th>\n",
       "      <th>alcohol_src_c</th>\n",
       "      <th>...</th>\n",
       "      <th>tobacco_pak_per_dy</th>\n",
       "      <th>tobacco_used_years</th>\n",
       "      <th>tobacco_user</th>\n",
       "      <th>unknown_fam_hx_yn</th>\n",
       "      <th>visit_status_1</th>\n",
       "      <th>visit_status_2</th>\n",
       "      <th>visit_status_3</th>\n",
       "      <th>visit_status_4</th>\n",
       "      <th>years_education</th>\n",
       "      <th>zip_d</th>\n",
       "    </tr>\n",
       "  </thead>\n",
       "  <tbody>\n",
       "    <tr>\n",
       "      <th>0</th>\n",
       "      <td>N</td>\n",
       "      <td>NaN</td>\n",
       "      <td>NaN</td>\n",
       "      <td>NaN</td>\n",
       "      <td>NaN</td>\n",
       "      <td>NaN</td>\n",
       "      <td>NaN</td>\n",
       "      <td>NaN</td>\n",
       "      <td>NaN</td>\n",
       "      <td>Provider</td>\n",
       "      <td>...</td>\n",
       "      <td>NaN</td>\n",
       "      <td>NaN</td>\n",
       "      <td>Not Asked</td>\n",
       "      <td>NaN</td>\n",
       "      <td>NaN</td>\n",
       "      <td>NaN</td>\n",
       "      <td>NaN</td>\n",
       "      <td>NaN</td>\n",
       "      <td>NaN</td>\n",
       "      <td>NaN</td>\n",
       "    </tr>\n",
       "    <tr>\n",
       "      <th>1</th>\n",
       "      <td>N</td>\n",
       "      <td>NaN</td>\n",
       "      <td>NaN</td>\n",
       "      <td>NaN</td>\n",
       "      <td>NaN</td>\n",
       "      <td>NaN</td>\n",
       "      <td>NaN</td>\n",
       "      <td>NaN</td>\n",
       "      <td>NaN</td>\n",
       "      <td>Provider</td>\n",
       "      <td>...</td>\n",
       "      <td>NaN</td>\n",
       "      <td>NaN</td>\n",
       "      <td>Never</td>\n",
       "      <td>NaN</td>\n",
       "      <td>NaN</td>\n",
       "      <td>NaN</td>\n",
       "      <td>NaN</td>\n",
       "      <td>NaN</td>\n",
       "      <td>NaN</td>\n",
       "      <td>NaN</td>\n",
       "    </tr>\n",
       "    <tr>\n",
       "      <th>2</th>\n",
       "      <td>N</td>\n",
       "      <td>NaN</td>\n",
       "      <td>NaN</td>\n",
       "      <td>NaN</td>\n",
       "      <td>NaN</td>\n",
       "      <td>NaN</td>\n",
       "      <td>NaN</td>\n",
       "      <td>NaN</td>\n",
       "      <td>NaN</td>\n",
       "      <td>Provider</td>\n",
       "      <td>...</td>\n",
       "      <td>NaN</td>\n",
       "      <td>NaN</td>\n",
       "      <td>Never</td>\n",
       "      <td>NaN</td>\n",
       "      <td>NaN</td>\n",
       "      <td>NaN</td>\n",
       "      <td>NaN</td>\n",
       "      <td>NaN</td>\n",
       "      <td>16.0</td>\n",
       "      <td>NaN</td>\n",
       "    </tr>\n",
       "    <tr>\n",
       "      <th>3</th>\n",
       "      <td>N</td>\n",
       "      <td>NaN</td>\n",
       "      <td>NaN</td>\n",
       "      <td>NaN</td>\n",
       "      <td>NaN</td>\n",
       "      <td>NaN</td>\n",
       "      <td>NaN</td>\n",
       "      <td>NaN</td>\n",
       "      <td>NaN</td>\n",
       "      <td>NaN</td>\n",
       "      <td>...</td>\n",
       "      <td>NaN</td>\n",
       "      <td>NaN</td>\n",
       "      <td>Never</td>\n",
       "      <td>NaN</td>\n",
       "      <td>NaN</td>\n",
       "      <td>NaN</td>\n",
       "      <td>NaN</td>\n",
       "      <td>NaN</td>\n",
       "      <td>NaN</td>\n",
       "      <td>NaN</td>\n",
       "    </tr>\n",
       "    <tr>\n",
       "      <th>4</th>\n",
       "      <td>N</td>\n",
       "      <td>NaN</td>\n",
       "      <td>NaN</td>\n",
       "      <td>NaN</td>\n",
       "      <td>NaN</td>\n",
       "      <td>NaN</td>\n",
       "      <td>NaN</td>\n",
       "      <td>NaN</td>\n",
       "      <td>NaN</td>\n",
       "      <td>Provider</td>\n",
       "      <td>...</td>\n",
       "      <td>NaN</td>\n",
       "      <td>15.0</td>\n",
       "      <td>Quit</td>\n",
       "      <td>NaN</td>\n",
       "      <td>NaN</td>\n",
       "      <td>NaN</td>\n",
       "      <td>NaN</td>\n",
       "      <td>NaN</td>\n",
       "      <td>NaN</td>\n",
       "      <td>NaN</td>\n",
       "    </tr>\n",
       "  </tbody>\n",
       "</table>\n",
       "<p>5 rows × 116 columns</p>\n",
       "</div>"
      ],
      "text/plain": [
       "  abstinence_yn adm_date_d admit_source_1 admit_source_2  admit_source_3  \\\n",
       "0             N        NaN            NaN            NaN             NaN   \n",
       "1             N        NaN            NaN            NaN             NaN   \n",
       "2             N        NaN            NaN            NaN             NaN   \n",
       "3             N        NaN            NaN            NaN             NaN   \n",
       "4             N        NaN            NaN            NaN             NaN   \n",
       "\n",
       "   admitting_prov_id admitting_provider_department  age_at_last_encounter  \\\n",
       "0                NaN                           NaN                    NaN   \n",
       "1                NaN                           NaN                    NaN   \n",
       "2                NaN                           NaN                    NaN   \n",
       "3                NaN                           NaN                    NaN   \n",
       "4                NaN                           NaN                    NaN   \n",
       "\n",
       "  alcohol_oz_per_wk alcohol_src_c  ...  tobacco_pak_per_dy tobacco_used_years  \\\n",
       "0               NaN      Provider  ...                 NaN                NaN   \n",
       "1               NaN      Provider  ...                 NaN                NaN   \n",
       "2               NaN      Provider  ...                 NaN                NaN   \n",
       "3               NaN           NaN  ...                 NaN                NaN   \n",
       "4               NaN      Provider  ...                 NaN               15.0   \n",
       "\n",
       "   tobacco_user unknown_fam_hx_yn visit_status_1 visit_status_2  \\\n",
       "0     Not Asked               NaN            NaN            NaN   \n",
       "1         Never               NaN            NaN            NaN   \n",
       "2         Never               NaN            NaN            NaN   \n",
       "3         Never               NaN            NaN            NaN   \n",
       "4          Quit               NaN            NaN            NaN   \n",
       "\n",
       "  visit_status_3 visit_status_4 years_education zip_d  \n",
       "0            NaN            NaN             NaN   NaN  \n",
       "1            NaN            NaN             NaN   NaN  \n",
       "2            NaN            NaN            16.0   NaN  \n",
       "3            NaN            NaN             NaN   NaN  \n",
       "4            NaN            NaN             NaN   NaN  \n",
       "\n",
       "[5 rows x 116 columns]"
      ]
     },
     "execution_count": 157,
     "metadata": {},
     "output_type": "execute_result"
    }
   ],
   "source": [
    "cohort1_dta.head()"
   ]
  },
  {
   "cell_type": "code",
   "execution_count": 162,
   "metadata": {
    "scrolled": true
   },
   "outputs": [
    {
     "data": {
      "text/plain": [
       "(2140, 116)"
      ]
     },
     "execution_count": 162,
     "metadata": {},
     "output_type": "execute_result"
    }
   ],
   "source": [
    "cohort1_dta.shape"
   ]
  },
  {
   "cell_type": "code",
   "execution_count": 160,
   "metadata": {
    "scrolled": true
   },
   "outputs": [
    {
     "data": {
      "text/plain": [
       "Index(['abstinence_yn', 'adm_date_d', 'admit_source_1', 'admit_source_2',\n",
       "       'admit_source_3', 'admitting_prov_id', 'admitting_provider_department',\n",
       "       'age_at_last_encounter', 'alcohol_oz_per_wk', 'alcohol_src_c',\n",
       "       ...\n",
       "       'tobacco_pak_per_dy', 'tobacco_used_years', 'tobacco_user',\n",
       "       'unknown_fam_hx_yn', 'visit_status_1', 'visit_status_2',\n",
       "       'visit_status_3', 'visit_status_4', 'years_education', 'zip_d'],\n",
       "      dtype='object', length=116)"
      ]
     },
     "execution_count": 160,
     "metadata": {},
     "output_type": "execute_result"
    }
   ],
   "source": [
    "cohort1_dta.columns"
   ]
  },
  {
   "cell_type": "code",
   "execution_count": 161,
   "metadata": {},
   "outputs": [
    {
     "name": "stdout",
     "output_type": "stream",
     "text": [
      "skipped: Z:/FINAL OUTPUT v2/07_ENCOUNTER_SOCIAL_HX_COHORT_1.csv\n",
      "skipped: Z:/FINAL OUTPUT v2/01_PATIENT_COHORT_1.csv\n",
      "skipped: Z:/FINAL OUTPUT v2/09_DX_INFO_COHORT_1.csv\n",
      "skipped: Z:/FINAL OUTPUT v2/05_ENCOUNTER_PROVIDER_COHORT_1.csv\n",
      "processed Z:/FINAL OUTPUT v2/04_ENCOUNTER_COHORT_2.csv\n"
     ]
    },
    {
     "name": "stderr",
     "output_type": "stream",
     "text": [
      "C:\\ProgramData\\Anaconda3\\lib\\site-packages\\IPython\\core\\interactiveshell.py:2850: DtypeWarning: Columns (6,13,16) have mixed types. Specify dtype option on import or set low_memory=False.\n",
      "  if self.run_code(code, result):\n"
     ]
    },
    {
     "name": "stdout",
     "output_type": "stream",
     "text": [
      "processed Z:/FINAL OUTPUT v2/06_ENCOUNTER_PROVIDER_COHORT_2.csv\n"
     ]
    },
    {
     "name": "stderr",
     "output_type": "stream",
     "text": [
      "C:\\ProgramData\\Anaconda3\\lib\\site-packages\\IPython\\core\\interactiveshell.py:2850: DtypeWarning: Columns (2,6) have mixed types. Specify dtype option on import or set low_memory=False.\n",
      "  if self.run_code(code, result):\n"
     ]
    },
    {
     "name": "stdout",
     "output_type": "stream",
     "text": [
      "processed Z:/FINAL OUTPUT v2/02_PATIENT_COHORT_2.csv\n",
      "skipped: Z:/FINAL OUTPUT v2/03_ENCOUNTER_COHORT_1.csv\n",
      "skipped: Z:/FINAL OUTPUT v2/11_COHORT_1_RADIOLOGY.csv\n",
      "processed Z:/FINAL OUTPUT v2/08_ENCOUNTER_SOCIAL_HX_COHORT_2.csv\n",
      "processed Z:/FINAL OUTPUT v2/10_DX_INFO_COHORT_2.csv\n"
     ]
    },
    {
     "name": "stderr",
     "output_type": "stream",
     "text": [
      "C:\\ProgramData\\Anaconda3\\lib\\site-packages\\IPython\\core\\interactiveshell.py:2850: DtypeWarning: Columns (98,110,113,116,117,119,120,122,123,125,126,128,129,131,132,134,135,137,138,140,141,143,144,146,147,149,150,152,153,155,156,158,159,161,162,164,165,167,168,170,171,173,174,176,177,179,180,182,183,185,186,188,189,191,192,194,195,197,198,200,201,203,204,206,207,209,210,212,213,215,216,218,219,221,222,224,225,227,228,230,231,233,234,236,237,239,240,242,243,245,246,248,249,251,252,254,255,257,258) have mixed types. Specify dtype option on import or set low_memory=False.\n",
      "  if self.run_code(code, result):\n"
     ]
    },
    {
     "name": "stdout",
     "output_type": "stream",
     "text": [
      "processed Z:/FINAL OUTPUT v2/12_COHORT_2_RADIOLOGY.csv\n"
     ]
    },
    {
     "data": {
      "text/html": [
       "<div>\n",
       "<style scoped>\n",
       "    .dataframe tbody tr th:only-of-type {\n",
       "        vertical-align: middle;\n",
       "    }\n",
       "\n",
       "    .dataframe tbody tr th {\n",
       "        vertical-align: top;\n",
       "    }\n",
       "\n",
       "    .dataframe thead th {\n",
       "        text-align: right;\n",
       "    }\n",
       "</style>\n",
       "<table border=\"1\" class=\"dataframe\">\n",
       "  <thead>\n",
       "    <tr style=\"text-align: right;\">\n",
       "      <th></th>\n",
       "      <th>abstinence_yn</th>\n",
       "      <th>adm_date_d</th>\n",
       "      <th>admit_source_1</th>\n",
       "      <th>admit_source_2</th>\n",
       "      <th>admit_source_3</th>\n",
       "      <th>admitting_prov_id</th>\n",
       "      <th>admitting_provider_department</th>\n",
       "      <th>age_at_last_encounter</th>\n",
       "      <th>alcohol_oz_per_wk</th>\n",
       "      <th>alcohol_src_c</th>\n",
       "      <th>...</th>\n",
       "      <th>tobacco_pak_per_dy</th>\n",
       "      <th>tobacco_used_years</th>\n",
       "      <th>tobacco_user</th>\n",
       "      <th>unknown_fam_hx_yn</th>\n",
       "      <th>visit_status_1</th>\n",
       "      <th>visit_status_2</th>\n",
       "      <th>visit_status_3</th>\n",
       "      <th>visit_status_4</th>\n",
       "      <th>years_education</th>\n",
       "      <th>zip_d</th>\n",
       "    </tr>\n",
       "  </thead>\n",
       "  <tbody>\n",
       "    <tr>\n",
       "      <th>0</th>\n",
       "      <td>N</td>\n",
       "      <td>NaN</td>\n",
       "      <td>NaN</td>\n",
       "      <td>NaN</td>\n",
       "      <td>NaN</td>\n",
       "      <td>NaN</td>\n",
       "      <td>NaN</td>\n",
       "      <td>NaN</td>\n",
       "      <td>NaN</td>\n",
       "      <td>Provider</td>\n",
       "      <td>...</td>\n",
       "      <td>NaN</td>\n",
       "      <td>NaN</td>\n",
       "      <td>Not Asked</td>\n",
       "      <td>NaN</td>\n",
       "      <td>NaN</td>\n",
       "      <td>NaN</td>\n",
       "      <td>NaN</td>\n",
       "      <td>NaN</td>\n",
       "      <td>NaN</td>\n",
       "      <td>NaN</td>\n",
       "    </tr>\n",
       "    <tr>\n",
       "      <th>1</th>\n",
       "      <td>N</td>\n",
       "      <td>NaN</td>\n",
       "      <td>NaN</td>\n",
       "      <td>NaN</td>\n",
       "      <td>NaN</td>\n",
       "      <td>NaN</td>\n",
       "      <td>NaN</td>\n",
       "      <td>NaN</td>\n",
       "      <td>NaN</td>\n",
       "      <td>Provider</td>\n",
       "      <td>...</td>\n",
       "      <td>NaN</td>\n",
       "      <td>NaN</td>\n",
       "      <td>Never</td>\n",
       "      <td>NaN</td>\n",
       "      <td>NaN</td>\n",
       "      <td>NaN</td>\n",
       "      <td>NaN</td>\n",
       "      <td>NaN</td>\n",
       "      <td>NaN</td>\n",
       "      <td>NaN</td>\n",
       "    </tr>\n",
       "    <tr>\n",
       "      <th>2</th>\n",
       "      <td>N</td>\n",
       "      <td>NaN</td>\n",
       "      <td>NaN</td>\n",
       "      <td>NaN</td>\n",
       "      <td>NaN</td>\n",
       "      <td>NaN</td>\n",
       "      <td>NaN</td>\n",
       "      <td>NaN</td>\n",
       "      <td>NaN</td>\n",
       "      <td>Provider</td>\n",
       "      <td>...</td>\n",
       "      <td>NaN</td>\n",
       "      <td>NaN</td>\n",
       "      <td>Never</td>\n",
       "      <td>NaN</td>\n",
       "      <td>NaN</td>\n",
       "      <td>NaN</td>\n",
       "      <td>NaN</td>\n",
       "      <td>NaN</td>\n",
       "      <td>16</td>\n",
       "      <td>NaN</td>\n",
       "    </tr>\n",
       "    <tr>\n",
       "      <th>3</th>\n",
       "      <td>N</td>\n",
       "      <td>NaN</td>\n",
       "      <td>NaN</td>\n",
       "      <td>NaN</td>\n",
       "      <td>NaN</td>\n",
       "      <td>NaN</td>\n",
       "      <td>NaN</td>\n",
       "      <td>NaN</td>\n",
       "      <td>NaN</td>\n",
       "      <td>NaN</td>\n",
       "      <td>...</td>\n",
       "      <td>NaN</td>\n",
       "      <td>NaN</td>\n",
       "      <td>Never</td>\n",
       "      <td>NaN</td>\n",
       "      <td>NaN</td>\n",
       "      <td>NaN</td>\n",
       "      <td>NaN</td>\n",
       "      <td>NaN</td>\n",
       "      <td>NaN</td>\n",
       "      <td>NaN</td>\n",
       "    </tr>\n",
       "    <tr>\n",
       "      <th>4</th>\n",
       "      <td>N</td>\n",
       "      <td>NaN</td>\n",
       "      <td>NaN</td>\n",
       "      <td>NaN</td>\n",
       "      <td>NaN</td>\n",
       "      <td>NaN</td>\n",
       "      <td>NaN</td>\n",
       "      <td>NaN</td>\n",
       "      <td>NaN</td>\n",
       "      <td>Provider</td>\n",
       "      <td>...</td>\n",
       "      <td>NaN</td>\n",
       "      <td>15.0</td>\n",
       "      <td>Quit</td>\n",
       "      <td>NaN</td>\n",
       "      <td>NaN</td>\n",
       "      <td>NaN</td>\n",
       "      <td>NaN</td>\n",
       "      <td>NaN</td>\n",
       "      <td>NaN</td>\n",
       "      <td>NaN</td>\n",
       "    </tr>\n",
       "  </tbody>\n",
       "</table>\n",
       "<p>5 rows × 335 columns</p>\n",
       "</div>"
      ],
      "text/plain": [
       "  abstinence_yn adm_date_d admit_source_1 admit_source_2 admit_source_3  \\\n",
       "0             N        NaN            NaN            NaN            NaN   \n",
       "1             N        NaN            NaN            NaN            NaN   \n",
       "2             N        NaN            NaN            NaN            NaN   \n",
       "3             N        NaN            NaN            NaN            NaN   \n",
       "4             N        NaN            NaN            NaN            NaN   \n",
       "\n",
       "  admitting_prov_id admitting_provider_department  age_at_last_encounter  \\\n",
       "0               NaN                           NaN                    NaN   \n",
       "1               NaN                           NaN                    NaN   \n",
       "2               NaN                           NaN                    NaN   \n",
       "3               NaN                           NaN                    NaN   \n",
       "4               NaN                           NaN                    NaN   \n",
       "\n",
       "  alcohol_oz_per_wk alcohol_src_c  ...  tobacco_pak_per_dy tobacco_used_years  \\\n",
       "0               NaN      Provider  ...                 NaN                NaN   \n",
       "1               NaN      Provider  ...                 NaN                NaN   \n",
       "2               NaN      Provider  ...                 NaN                NaN   \n",
       "3               NaN           NaN  ...                 NaN                NaN   \n",
       "4               NaN      Provider  ...                 NaN               15.0   \n",
       "\n",
       "   tobacco_user unknown_fam_hx_yn visit_status_1 visit_status_2  \\\n",
       "0     Not Asked               NaN            NaN            NaN   \n",
       "1         Never               NaN            NaN            NaN   \n",
       "2         Never               NaN            NaN            NaN   \n",
       "3         Never               NaN            NaN            NaN   \n",
       "4          Quit               NaN            NaN            NaN   \n",
       "\n",
       "  visit_status_3 visit_status_4 years_education zip_d  \n",
       "0            NaN            NaN             NaN   NaN  \n",
       "1            NaN            NaN             NaN   NaN  \n",
       "2            NaN            NaN              16   NaN  \n",
       "3            NaN            NaN             NaN   NaN  \n",
       "4            NaN            NaN             NaN   NaN  \n",
       "\n",
       "[5 rows x 335 columns]"
      ]
     },
     "execution_count": 161,
     "metadata": {},
     "output_type": "execute_result"
    }
   ],
   "source": [
    "cohort2_dta = readin(onlyfiles_sorted,\"COHORT_2\")"
   ]
  },
  {
   "cell_type": "code",
   "execution_count": 163,
   "metadata": {},
   "outputs": [
    {
     "data": {
      "text/plain": [
       "(5695268, 335)"
      ]
     },
     "execution_count": 163,
     "metadata": {},
     "output_type": "execute_result"
    }
   ],
   "source": [
    "cohort2_dta.shape"
   ]
  },
  {
   "cell_type": "code",
   "execution_count": null,
   "metadata": {},
   "outputs": [],
   "source": [
    "cohort2_dta.head()"
   ]
  },
  {
   "cell_type": "markdown",
   "metadata": {},
   "source": [
    "# Write csvs"
   ]
  },
  {
   "cell_type": "code",
   "execution_count": 171,
   "metadata": {},
   "outputs": [
    {
     "ename": "KeyboardInterrupt",
     "evalue": "",
     "output_type": "error",
     "traceback": [
      "\u001b[1;31m---------------------------------------------------------------------------\u001b[0m",
      "\u001b[1;31mKeyboardInterrupt\u001b[0m                         Traceback (most recent call last)",
      "\u001b[1;32m<ipython-input-171-5deb1fb5127b>\u001b[0m in \u001b[0;36m<module>\u001b[1;34m()\u001b[0m\n\u001b[0;32m      1\u001b[0m \u001b[0mcohort1_dta\u001b[0m\u001b[1;33m.\u001b[0m\u001b[0mto_csv\u001b[0m\u001b[1;33m(\u001b[0m\u001b[0mjoin\u001b[0m\u001b[1;33m(\u001b[0m\u001b[0mmypath\u001b[0m\u001b[1;33m,\u001b[0m\u001b[1;34m\"merged_cohort1.csv\"\u001b[0m\u001b[1;33m)\u001b[0m\u001b[1;33m,\u001b[0m\u001b[0msep\u001b[0m\u001b[1;33m=\u001b[0m\u001b[1;34m\"|\"\u001b[0m\u001b[1;33m)\u001b[0m\u001b[1;33m\u001b[0m\u001b[0m\n\u001b[1;32m----> 2\u001b[1;33m \u001b[0mcohort2_dta\u001b[0m\u001b[1;33m.\u001b[0m\u001b[0mto_csv\u001b[0m\u001b[1;33m(\u001b[0m\u001b[0mjoin\u001b[0m\u001b[1;33m(\u001b[0m\u001b[0mmypath\u001b[0m\u001b[1;33m,\u001b[0m\u001b[1;34m\"merged_cohort2.csv\"\u001b[0m\u001b[1;33m)\u001b[0m\u001b[1;33m,\u001b[0m\u001b[0msep\u001b[0m\u001b[1;33m=\u001b[0m\u001b[1;34m\"|\"\u001b[0m\u001b[1;33m)\u001b[0m\u001b[1;33m\u001b[0m\u001b[0m\n\u001b[0m",
      "\u001b[1;32mC:\\ProgramData\\Anaconda3\\lib\\site-packages\\pandas\\core\\frame.py\u001b[0m in \u001b[0;36mto_csv\u001b[1;34m(self, path_or_buf, sep, na_rep, float_format, columns, header, index, index_label, mode, encoding, compression, quoting, quotechar, line_terminator, chunksize, tupleize_cols, date_format, doublequote, escapechar, decimal)\u001b[0m\n\u001b[0;32m   1522\u001b[0m                                      \u001b[0mdoublequote\u001b[0m\u001b[1;33m=\u001b[0m\u001b[0mdoublequote\u001b[0m\u001b[1;33m,\u001b[0m\u001b[1;33m\u001b[0m\u001b[0m\n\u001b[0;32m   1523\u001b[0m                                      escapechar=escapechar, decimal=decimal)\n\u001b[1;32m-> 1524\u001b[1;33m         \u001b[0mformatter\u001b[0m\u001b[1;33m.\u001b[0m\u001b[0msave\u001b[0m\u001b[1;33m(\u001b[0m\u001b[1;33m)\u001b[0m\u001b[1;33m\u001b[0m\u001b[0m\n\u001b[0m\u001b[0;32m   1525\u001b[0m \u001b[1;33m\u001b[0m\u001b[0m\n\u001b[0;32m   1526\u001b[0m         \u001b[1;32mif\u001b[0m \u001b[0mpath_or_buf\u001b[0m \u001b[1;32mis\u001b[0m \u001b[1;32mNone\u001b[0m\u001b[1;33m:\u001b[0m\u001b[1;33m\u001b[0m\u001b[0m\n",
      "\u001b[1;32mC:\\ProgramData\\Anaconda3\\lib\\site-packages\\pandas\\io\\formats\\format.py\u001b[0m in \u001b[0;36msave\u001b[1;34m(self)\u001b[0m\n\u001b[0;32m   1650\u001b[0m                 \u001b[0mself\u001b[0m\u001b[1;33m.\u001b[0m\u001b[0mwriter\u001b[0m \u001b[1;33m=\u001b[0m \u001b[0mUnicodeWriter\u001b[0m\u001b[1;33m(\u001b[0m\u001b[0mf\u001b[0m\u001b[1;33m,\u001b[0m \u001b[1;33m**\u001b[0m\u001b[0mwriter_kwargs\u001b[0m\u001b[1;33m)\u001b[0m\u001b[1;33m\u001b[0m\u001b[0m\n\u001b[0;32m   1651\u001b[0m \u001b[1;33m\u001b[0m\u001b[0m\n\u001b[1;32m-> 1652\u001b[1;33m             \u001b[0mself\u001b[0m\u001b[1;33m.\u001b[0m\u001b[0m_save\u001b[0m\u001b[1;33m(\u001b[0m\u001b[1;33m)\u001b[0m\u001b[1;33m\u001b[0m\u001b[0m\n\u001b[0m\u001b[0;32m   1653\u001b[0m \u001b[1;33m\u001b[0m\u001b[0m\n\u001b[0;32m   1654\u001b[0m         \u001b[1;32mfinally\u001b[0m\u001b[1;33m:\u001b[0m\u001b[1;33m\u001b[0m\u001b[0m\n",
      "\u001b[1;32mC:\\ProgramData\\Anaconda3\\lib\\site-packages\\pandas\\io\\formats\\format.py\u001b[0m in \u001b[0;36m_save\u001b[1;34m(self)\u001b[0m\n\u001b[0;32m   1752\u001b[0m                 \u001b[1;32mbreak\u001b[0m\u001b[1;33m\u001b[0m\u001b[0m\n\u001b[0;32m   1753\u001b[0m \u001b[1;33m\u001b[0m\u001b[0m\n\u001b[1;32m-> 1754\u001b[1;33m             \u001b[0mself\u001b[0m\u001b[1;33m.\u001b[0m\u001b[0m_save_chunk\u001b[0m\u001b[1;33m(\u001b[0m\u001b[0mstart_i\u001b[0m\u001b[1;33m,\u001b[0m \u001b[0mend_i\u001b[0m\u001b[1;33m)\u001b[0m\u001b[1;33m\u001b[0m\u001b[0m\n\u001b[0m\u001b[0;32m   1755\u001b[0m \u001b[1;33m\u001b[0m\u001b[0m\n\u001b[0;32m   1756\u001b[0m     \u001b[1;32mdef\u001b[0m \u001b[0m_save_chunk\u001b[0m\u001b[1;33m(\u001b[0m\u001b[0mself\u001b[0m\u001b[1;33m,\u001b[0m \u001b[0mstart_i\u001b[0m\u001b[1;33m,\u001b[0m \u001b[0mend_i\u001b[0m\u001b[1;33m)\u001b[0m\u001b[1;33m:\u001b[0m\u001b[1;33m\u001b[0m\u001b[0m\n",
      "\u001b[1;32mC:\\ProgramData\\Anaconda3\\lib\\site-packages\\pandas\\io\\formats\\format.py\u001b[0m in \u001b[0;36m_save_chunk\u001b[1;34m(self, start_i, end_i)\u001b[0m\n\u001b[0;32m   1766\u001b[0m                                   \u001b[0mdecimal\u001b[0m\u001b[1;33m=\u001b[0m\u001b[0mself\u001b[0m\u001b[1;33m.\u001b[0m\u001b[0mdecimal\u001b[0m\u001b[1;33m,\u001b[0m\u001b[1;33m\u001b[0m\u001b[0m\n\u001b[0;32m   1767\u001b[0m                                   \u001b[0mdate_format\u001b[0m\u001b[1;33m=\u001b[0m\u001b[0mself\u001b[0m\u001b[1;33m.\u001b[0m\u001b[0mdate_format\u001b[0m\u001b[1;33m,\u001b[0m\u001b[1;33m\u001b[0m\u001b[0m\n\u001b[1;32m-> 1768\u001b[1;33m                                   quoting=self.quoting)\n\u001b[0m\u001b[0;32m   1769\u001b[0m \u001b[1;33m\u001b[0m\u001b[0m\n\u001b[0;32m   1770\u001b[0m             \u001b[1;32mfor\u001b[0m \u001b[0mcol_loc\u001b[0m\u001b[1;33m,\u001b[0m \u001b[0mcol\u001b[0m \u001b[1;32min\u001b[0m \u001b[0mzip\u001b[0m\u001b[1;33m(\u001b[0m\u001b[0mb\u001b[0m\u001b[1;33m.\u001b[0m\u001b[0mmgr_locs\u001b[0m\u001b[1;33m,\u001b[0m \u001b[0md\u001b[0m\u001b[1;33m)\u001b[0m\u001b[1;33m:\u001b[0m\u001b[1;33m\u001b[0m\u001b[0m\n",
      "\u001b[1;32mC:\\ProgramData\\Anaconda3\\lib\\site-packages\\pandas\\core\\internals.py\u001b[0m in \u001b[0;36mto_native_types\u001b[1;34m(self, slicer, na_rep, quoting, **kwargs)\u001b[0m\n\u001b[0;32m    724\u001b[0m             \u001b[0mvalues\u001b[0m \u001b[1;33m=\u001b[0m \u001b[0mvalues\u001b[0m\u001b[1;33m.\u001b[0m\u001b[0mastype\u001b[0m\u001b[1;33m(\u001b[0m\u001b[0mstr\u001b[0m\u001b[1;33m)\u001b[0m\u001b[1;33m\u001b[0m\u001b[0m\n\u001b[0;32m    725\u001b[0m         \u001b[1;32melse\u001b[0m\u001b[1;33m:\u001b[0m\u001b[1;33m\u001b[0m\u001b[0m\n\u001b[1;32m--> 726\u001b[1;33m             \u001b[0mvalues\u001b[0m \u001b[1;33m=\u001b[0m \u001b[0mnp\u001b[0m\u001b[1;33m.\u001b[0m\u001b[0marray\u001b[0m\u001b[1;33m(\u001b[0m\u001b[0mvalues\u001b[0m\u001b[1;33m,\u001b[0m \u001b[0mdtype\u001b[0m\u001b[1;33m=\u001b[0m\u001b[1;34m'object'\u001b[0m\u001b[1;33m)\u001b[0m\u001b[1;33m\u001b[0m\u001b[0m\n\u001b[0m\u001b[0;32m    727\u001b[0m \u001b[1;33m\u001b[0m\u001b[0m\n\u001b[0;32m    728\u001b[0m         \u001b[0mvalues\u001b[0m\u001b[1;33m[\u001b[0m\u001b[0mmask\u001b[0m\u001b[1;33m]\u001b[0m \u001b[1;33m=\u001b[0m \u001b[0mna_rep\u001b[0m\u001b[1;33m\u001b[0m\u001b[0m\n",
      "\u001b[1;31mKeyboardInterrupt\u001b[0m: "
     ]
    }
   ],
   "source": [
    "cohort1_dta.to_csv(join(mypath,\"merged_cohort1.csv\"),sep=\"|\")\n",
    "cohort2_dta.to_csv(join(mypath,\"merged_cohort2.csv\"),sep=\"|\")"
   ]
  },
  {
   "cell_type": "code",
   "execution_count": null,
   "metadata": {},
   "outputs": [],
   "source": []
  }
 ],
 "metadata": {
  "kernelspec": {
   "display_name": "Python 3",
   "language": "python",
   "name": "python3"
  },
  "language_info": {
   "codemirror_mode": {
    "name": "ipython",
    "version": 3
   },
   "file_extension": ".py",
   "mimetype": "text/x-python",
   "name": "python",
   "nbconvert_exporter": "python",
   "pygments_lexer": "ipython3",
   "version": "3.6.4"
  }
 },
 "nbformat": 4,
 "nbformat_minor": 2
}
